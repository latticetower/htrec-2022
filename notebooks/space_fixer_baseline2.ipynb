{
 "cells": [
  {
   "cell_type": "code",
   "execution_count": 1,
   "metadata": {},
   "outputs": [],
   "source": [
    "%load_ext autoreload\n",
    "%autoreload 2"
   ]
  },
  {
   "cell_type": "code",
   "execution_count": 2,
   "metadata": {},
   "outputs": [],
   "source": [
    "import random\n",
    "import pandas as pd\n",
    "import numpy as np\n",
    "from pathlib import Path"
   ]
  },
  {
   "cell_type": "code",
   "execution_count": 3,
   "metadata": {},
   "outputs": [],
   "source": [
    "# fix seeds, make everything reproducible, etc (at least try to).\n",
    "SEED = 42\n",
    "np.random.seed(SEED)\n",
    "random.seed(SEED)\n",
    "\n",
    "DATADIR = \"../data\"\n",
    "\n",
    "MAX_WORDS = 4"
   ]
  },
  {
   "cell_type": "code",
   "execution_count": 4,
   "metadata": {},
   "outputs": [],
   "source": [
    "# !pip install aicrowd-cli\n",
    "%load_ext aicrowd.magic"
   ]
  },
  {
   "cell_type": "code",
   "execution_count": 5,
   "metadata": {},
   "outputs": [
    {
     "name": "stdout",
     "output_type": "stream",
     "text": [
      "\u001b[32mAPI Key valid\u001b[0m\n",
      "\u001b[33mGitlab oauth token invalid or absent.\n",
      "It is highly recommended to simply run `aicrowd login` without passing the API Key.\u001b[0m\n",
      "\u001b[32mSaved details successfully!\u001b[0m\n"
     ]
    }
   ],
   "source": [
    "%aicrowd login"
   ]
  },
  {
   "cell_type": "code",
   "execution_count": 6,
   "metadata": {},
   "outputs": [
    {
     "data": {
      "application/vnd.jupyter.widget-view+json": {
       "model_id": "74ff834a0aba43dba7b7f7c24bc41bf3",
       "version_major": 2,
       "version_minor": 0
      },
      "text/plain": [
       "train.csv:   0%|          | 0.00/395k [00:00<?, ?B/s]"
      ]
     },
     "metadata": {},
     "output_type": "display_data"
    },
    {
     "data": {
      "application/vnd.jupyter.widget-view+json": {
       "model_id": "e7a18083e6a54b64be62aed5a86c8d83",
       "version_major": 2,
       "version_minor": 0
      },
      "text/plain": [
       "test.csv:   0%|          | 0.00/45.5k [00:00<?, ?B/s]"
      ]
     },
     "metadata": {},
     "output_type": "display_data"
    }
   ],
   "source": [
    "import re\n",
    "if Path(DATADIR).exists():\n",
    "  !rm -rf $DATADIR\n",
    "!mkdir $DATADIR\n",
    "%aicrowd ds dl -c htrec-2022 -o $DATADIR"
   ]
  },
  {
   "cell_type": "code",
   "execution_count": 7,
   "metadata": {},
   "outputs": [
    {
     "data": {
      "text/html": [
       "<div>\n",
       "<style scoped>\n",
       "    .dataframe tbody tr th:only-of-type {\n",
       "        vertical-align: middle;\n",
       "    }\n",
       "\n",
       "    .dataframe tbody tr th {\n",
       "        vertical-align: top;\n",
       "    }\n",
       "\n",
       "    .dataframe thead th {\n",
       "        text-align: right;\n",
       "    }\n",
       "</style>\n",
       "<table border=\"1\" class=\"dataframe\">\n",
       "  <thead>\n",
       "    <tr style=\"text-align: right;\">\n",
       "      <th></th>\n",
       "      <th>HUMAN_TRANSCRIPTION</th>\n",
       "      <th>SYSTEM_TRANSCRIPTION</th>\n",
       "      <th>CENTURY</th>\n",
       "      <th>IMAGE_PATH</th>\n",
       "      <th>TEXT_LINE_NUM</th>\n",
       "    </tr>\n",
       "  </thead>\n",
       "  <tbody>\n",
       "    <tr>\n",
       "      <th>0</th>\n",
       "      <td>ἐγγινομένα πάθη μὴ σβεννύντες ἀλλὰ τῆ εκλύσει</td>\n",
       "      <td>ἐγγενομεναπαδημησμεννωτες ἀλλατῆε κλησει</td>\n",
       "      <td>11</td>\n",
       "      <td>1 Bodleian-Library-MS-Barocci-102_00157_fol-75...</td>\n",
       "      <td>1</td>\n",
       "    </tr>\n",
       "    <tr>\n",
       "      <th>1</th>\n",
       "      <td>τοῦ βίου τοῦ καθ ΄ εαυτοὺς πολλὰ γίνεσθαι συγχ...</td>\n",
       "      <td>του β ου του καλεαυτοὺς πολλαγινεσθαι συγχωρ όν</td>\n",
       "      <td>11</td>\n",
       "      <td>1 Bodleian-Library-MS-Barocci-102_00157_fol-75...</td>\n",
       "      <td>2</td>\n",
       "    </tr>\n",
       "    <tr>\n",
       "      <th>2</th>\n",
       "      <td>τες ἐμπυρίζουσι τὸν ἀμπελῶνα ἀλλὰ καὶ ὁ διὰ</td>\n",
       "      <td>τες εμπυριζου σιμαμπελῶνα ἀλλακαι ὅδξα</td>\n",
       "      <td>11</td>\n",
       "      <td>1 Bodleian-Library-MS-Barocci-102_00157_fol-75...</td>\n",
       "      <td>3</td>\n",
       "    </tr>\n",
       "    <tr>\n",
       "      <th>3</th>\n",
       "      <td>τῆς ἡδεῖας πλεονεξίας πολλοὺς εἰς τὴν τῶν ἀλλ</td>\n",
       "      <td>της ἐδίας πλσον ἐξιας πολλους ἐις τὴν τῶν ἀλ</td>\n",
       "      <td>11</td>\n",
       "      <td>1 Bodleian-Library-MS-Barocci-102_00157_fol-75...</td>\n",
       "      <td>4</td>\n",
       "    </tr>\n",
       "    <tr>\n",
       "      <th>4</th>\n",
       "      <td>οτρίων ἐπιθυμίαν προκαλούμενος ἐμπυρί</td>\n",
       "      <td>λοτρλων ἐπιθυμιαν προκαλουμένος ἐμπυρι</td>\n",
       "      <td>11</td>\n",
       "      <td>1 Bodleian-Library-MS-Barocci-102_00157_fol-75...</td>\n",
       "      <td>5</td>\n",
       "    </tr>\n",
       "  </tbody>\n",
       "</table>\n",
       "</div>"
      ],
      "text/plain": [
       "                                 HUMAN_TRANSCRIPTION  \\\n",
       "0      ἐγγινομένα πάθη μὴ σβεννύντες ἀλλὰ τῆ εκλύσει   \n",
       "1  τοῦ βίου τοῦ καθ ΄ εαυτοὺς πολλὰ γίνεσθαι συγχ...   \n",
       "2        τες ἐμπυρίζουσι τὸν ἀμπελῶνα ἀλλὰ καὶ ὁ διὰ   \n",
       "3      τῆς ἡδεῖας πλεονεξίας πολλοὺς εἰς τὴν τῶν ἀλλ   \n",
       "4              οτρίων ἐπιθυμίαν προκαλούμενος ἐμπυρί   \n",
       "\n",
       "                              SYSTEM_TRANSCRIPTION  CENTURY  \\\n",
       "0         ἐγγενομεναπαδημησμεννωτες ἀλλατῆε κλησει       11   \n",
       "1  του β ου του καλεαυτοὺς πολλαγινεσθαι συγχωρ όν       11   \n",
       "2           τες εμπυριζου σιμαμπελῶνα ἀλλακαι ὅδξα       11   \n",
       "3     της ἐδίας πλσον ἐξιας πολλους ἐις τὴν τῶν ἀλ       11   \n",
       "4           λοτρλων ἐπιθυμιαν προκαλουμένος ἐμπυρι       11   \n",
       "\n",
       "                                          IMAGE_PATH  TEXT_LINE_NUM  \n",
       "0  1 Bodleian-Library-MS-Barocci-102_00157_fol-75...              1  \n",
       "1  1 Bodleian-Library-MS-Barocci-102_00157_fol-75...              2  \n",
       "2  1 Bodleian-Library-MS-Barocci-102_00157_fol-75...              3  \n",
       "3  1 Bodleian-Library-MS-Barocci-102_00157_fol-75...              4  \n",
       "4  1 Bodleian-Library-MS-Barocci-102_00157_fol-75...              5  "
      ]
     },
     "execution_count": 7,
     "metadata": {},
     "output_type": "execute_result"
    }
   ],
   "source": [
    "import pywer\n",
    "train_df = pd.read_csv( f\"{DATADIR}/train.csv\")\n",
    "test_df = pd.read_csv(f\"{DATADIR}/test.csv\")\n",
    "\n",
    "word_regex = re.compile(\"\\W+\")\n",
    "word_regex2 = re.compile(\"(\\W+)\")\n",
    "\n",
    "train_df.head()"
   ]
  },
  {
   "cell_type": "code",
   "execution_count": 8,
   "metadata": {},
   "outputs": [],
   "source": [
    "# !pip install nltk"
   ]
  },
  {
   "cell_type": "code",
   "execution_count": 9,
   "metadata": {},
   "outputs": [],
   "source": [
    "for lib_dir in [\"..\", \"../src\"]:\n",
    "    if not lib_dir in sys.path:\n",
    "        sys.path.append(lib_dir)\n",
    "from lm_utils import *"
   ]
  },
  {
   "cell_type": "code",
   "execution_count": 10,
   "metadata": {},
   "outputs": [],
   "source": [
    "language_model = make_lm(train_df.HUMAN_TRANSCRIPTION.sum())"
   ]
  },
  {
   "cell_type": "code",
   "execution_count": 11,
   "metadata": {},
   "outputs": [],
   "source": [
    "from tqdm.auto import tqdm\n",
    "from datastruct import *\n",
    "from common import *\n",
    "from space_fixer import SpaceFixer\n",
    "\n",
    "# for ht_line, mt_line in tqdm(train_df[[\"HUMAN_TRANSCRIPTION\", \"SYSTEM_TRANSCRIPTION\"]].values[7:]):\n",
    "#     ht_words = word_regex.split(ht_line)\n",
    "#     mt_words = word_regex.split(mt_line)\n",
    "#     #words_ = [remove_cap(word) for word in words]\n",
    "#     #vocab.add_sentence(words)\n",
    "#     dmatrix = build_path_matrix(mt_words, vocabs)\n",
    "#     finished_paths = extract_paths(dmatrix)\n",
    "#     for k in resplit_paths(finished_paths, mt_words):\n",
    "#         variant = \" \".join(k)\n",
    "#         print(variant)\n",
    "#     break\n",
    "CUTOFF = 3"
   ]
  },
  {
   "cell_type": "code",
   "execution_count": 12,
   "metadata": {},
   "outputs": [],
   "source": [
    "def extract_spaces_dict(x):\n",
    "    result = dict()\n",
    "    last_index = 0\n",
    "    for w in word_regex2.split(x):\n",
    "        if not word_regex.match(w):\n",
    "            last_index += 1\n",
    "        else:\n",
    "            result[last_index] = w\n",
    "    if not last_index in result:\n",
    "        result[last_index] = \"\"\n",
    "    return result\n",
    "    "
   ]
  },
  {
   "cell_type": "code",
   "execution_count": 13,
   "metadata": {},
   "outputs": [
    {
     "data": {
      "application/vnd.jupyter.widget-view+json": {
       "model_id": "65e2f6f6aadd4da6b359afda26aaa5c4",
       "version_major": 2,
       "version_minor": 0
      },
      "text/plain": [
       "  0%|          | 0/1875 [00:00<?, ?it/s]"
      ]
     },
     "metadata": {},
     "output_type": "display_data"
    }
   ],
   "source": [
    "\n",
    "train_df[\"SYSTEM_TRANSCRIPTION_raw\"] = train_df.SYSTEM_TRANSCRIPTION\n",
    "train_df[\"SYSTEM_TRANSCRIPTION\"] = train_df.SYSTEM_TRANSCRIPTION.apply(lambda x: lmr(x, lm=language_model))\n",
    "\n",
    "ht_sequences_train = train_df.HUMAN_TRANSCRIPTION.apply(lambda x: word_regex.split(x)).values\n",
    "mt_sequences_train = train_df.SYSTEM_TRANSCRIPTION.apply(lambda x: word_regex.split(x)).values\n",
    "mt_spaces_train = train_df.SYSTEM_TRANSCRIPTION.apply(extract_spaces_dict).values\n",
    "\n",
    "mt_texts_train = train_df.SYSTEM_TRANSCRIPTION.values\n",
    "fixer = SpaceFixer(MAX_WORDS)\n",
    "fixer.fill(ht_sequences_train)"
   ]
  },
  {
   "cell_type": "code",
   "execution_count": 14,
   "metadata": {},
   "outputs": [
    {
     "data": {
      "text/html": [
       "<div>\n",
       "<style scoped>\n",
       "    .dataframe tbody tr th:only-of-type {\n",
       "        vertical-align: middle;\n",
       "    }\n",
       "\n",
       "    .dataframe tbody tr th {\n",
       "        vertical-align: top;\n",
       "    }\n",
       "\n",
       "    .dataframe thead th {\n",
       "        text-align: right;\n",
       "    }\n",
       "</style>\n",
       "<table border=\"1\" class=\"dataframe\">\n",
       "  <thead>\n",
       "    <tr style=\"text-align: right;\">\n",
       "      <th></th>\n",
       "      <th>filename</th>\n",
       "      <th>text</th>\n",
       "      <th>genre</th>\n",
       "    </tr>\n",
       "  </thead>\n",
       "  <tbody>\n",
       "    <tr>\n",
       "      <th>18</th>\n",
       "      <td>Greek_Medieval_Corpus/Ποιητικά-Λογοτεχνικά/poe...</td>\n",
       "      <td>NaN</td>\n",
       "      <td>Ποιητικά-Λογοτεχνικά/poetry</td>\n",
       "    </tr>\n",
       "    <tr>\n",
       "      <th>25</th>\n",
       "      <td>Greek_Medieval_Corpus/Ποιητικά-Λογοτεχνικά/poe...</td>\n",
       "      <td>NaN</td>\n",
       "      <td>Ποιητικά-Λογοτεχνικά/poetry</td>\n",
       "    </tr>\n",
       "  </tbody>\n",
       "</table>\n",
       "</div>"
      ],
      "text/plain": [
       "                                             filename text  \\\n",
       "18  Greek_Medieval_Corpus/Ποιητικά-Λογοτεχνικά/poe...  NaN   \n",
       "25  Greek_Medieval_Corpus/Ποιητικά-Λογοτεχνικά/poe...  NaN   \n",
       "\n",
       "                          genre  \n",
       "18  Ποιητικά-Λογοτεχνικά/poetry  \n",
       "25  Ποιητικά-Λογοτεχνικά/poetry  "
      ]
     },
     "execution_count": 14,
     "metadata": {},
     "output_type": "execute_result"
    }
   ],
   "source": [
    "additional_corpus = pd.read_csv(\"../mgc.csv\")\n",
    "additional_corpus.head()\n",
    "additional_corpus.loc[additional_corpus.text.isnull()]\n"
   ]
  },
  {
   "cell_type": "code",
   "execution_count": 15,
   "metadata": {},
   "outputs": [
    {
     "data": {
      "application/vnd.jupyter.widget-view+json": {
       "model_id": "ec981eec14204ea094878f7564cd13f9",
       "version_major": 2,
       "version_minor": 0
      },
      "text/plain": [
       "  0%|          | 0/51745 [00:00<?, ?it/s]"
      ]
     },
     "metadata": {},
     "output_type": "display_data"
    }
   ],
   "source": [
    "sep_regex = re.compile(\"<[^>]+>\")\n",
    "\n",
    "sentence_regex = re.compile(\"[.!?]\")\n",
    "def split_to_sentences(text):\n",
    "    if len(set(sep_regex.findall(text)) | {\"<NEWLINE>\", \"<NEWPARAGRAPH>\"}) > 2:\n",
    "        return\n",
    "    for text_block in sep_regex.split(text):\n",
    "        for sentence in sentence_regex.split(text_block):\n",
    "            words = [w for w in word_regex.split(sentence) if len(w) > 0]\n",
    "            if len(words) < 1:\n",
    "                continue\n",
    "            if len(words) > 20:\n",
    "                continue\n",
    "            has_short_words = np.any([len(w1) == 1 and len(w2) == 1 for w1, w2 in zip(words, words[1:])])\n",
    "            if has_short_words:\n",
    "                continue\n",
    "            yield words\n",
    "additional_corpus = additional_corpus.loc[~additional_corpus.text.isnull()]\n",
    "\n",
    "# set([x for xs in additional_corpus.text.apply(lambda x: sep_regex.findall(x)).values for x in xs])\n",
    "additional_corpus['cleaned_sentences'] = additional_corpus.text.apply(lambda x: list(split_to_sentences(x)))\n",
    "#additional_corpus.text.isnull().mean()\n",
    "flatten_sentences = [sentence for sentences in additional_corpus.cleaned_sentences.values for sentence in sentences if len(sentence) > 0]\n",
    "\n",
    "fixer.fill(flatten_sentences)"
   ]
  },
  {
   "cell_type": "code",
   "execution_count": 16,
   "metadata": {},
   "outputs": [
    {
     "data": {
      "text/plain": [
       "80973"
      ]
     },
     "execution_count": 16,
     "metadata": {},
     "output_type": "execute_result"
    }
   ],
   "source": [
    "# additional_corpus.text.apply(lambda x: set(sep_regex.findall(x)) )\n",
    "len(fixer.vocabs[1].words)"
   ]
  },
  {
   "cell_type": "code",
   "execution_count": 17,
   "metadata": {},
   "outputs": [
    {
     "data": {
      "text/plain": [
       "[['ΜΕΤΑ', 'ΓΟΥΝ', 'ΑΛΛΑ', 'ΤΑ', 'ΠΟΛΛΑ', 'ΤΩΝ', 'ΕΡΩΤΟΧΑΡΙΤΩΝ'],\n",
       " ['ΟΣΑ', 'ΜΑΝΘΑΝΕΙ', 'ΦΥΣΙΚΩΣ', 'ΕΡΩΤΙΚΗ', 'ΚΑΡΔΙΑ'],\n",
       " ['ΕΣΕΒΗΣΑΝ', 'ΕΙΣ', 'ΤΟ', 'ΛΟΥΤΡΟΝ', 'ΕΛΟΥΣΘΗΣΑΝ', 'ΕΚΕΙΝΟΙ']]"
      ]
     },
     "execution_count": 17,
     "metadata": {},
     "output_type": "execute_result"
    }
   ],
   "source": [
    "flatten_sentences[:3]"
   ]
  },
  {
   "cell_type": "code",
   "execution_count": 18,
   "metadata": {},
   "outputs": [
    {
     "data": {
      "application/vnd.jupyter.widget-view+json": {
       "model_id": "fbb3d1a44bdf402096a4a8874ed12209",
       "version_major": 2,
       "version_minor": 0
      },
      "text/plain": [
       "  0%|          | 0/1875 [00:00<?, ?it/s]"
      ]
     },
     "metadata": {},
     "output_type": "display_data"
    },
    {
     "name": "stdout",
     "output_type": "stream",
     "text": [
      "703 3\n",
      "mt orig δων δὲοις ότι επισυντρες\n",
      "['δων δὲ οις ότι επισυντρες', 'δων δὲ ο ις ότι επισυντρες', 'δων δὲ οι ς ότι επισυντρες']\n",
      "{1: ' ', 2: ' ', 3: ' ', 4: ''}\n",
      "848 3\n",
      "mt orig φερουσιν ιδων δεοις ἡγα\n",
      "['φερουσιν ιδων δε οις ἡγα', 'φερουσιν ιδων δε ο ις ἡγα', 'φερουσιν ιδων δε οι ς ἡγα']\n",
      "{1: ' ', 2: ' ', 3: ' ', 4: ''}\n"
     ]
    }
   ],
   "source": [
    "from common import correct_sigmas_in_word\n",
    "from common import fix_accent_diphthong\n",
    "\n",
    "def join_if_tuple(s):\n",
    "    if isinstance(s, str):\n",
    "        return s\n",
    "    return \" \".join([(x) for x in s])\n",
    "\n",
    "def postprocess_spaces(spaces_after):\n",
    "    #return spaces_after\n",
    "    if len(spaces_after) < 2:\n",
    "        return spaces_after\n",
    "    if spaces_after[-1]!=\".\":\n",
    "        spaces_after[-1] = ''\n",
    "    return spaces_after\n",
    "\n",
    "\n",
    "corrected_texts = []\n",
    "# mt_sequences_train = mt_sequences_train[-1:]\n",
    "# mt_spaces_train = mt_spaces_train[-1:]\n",
    "# mt_texts_train = mt_texts_train[-1:]\n",
    "# ht_sequences_train = ht_sequences_train[-1:]\n",
    "corrected_count = 0\n",
    "\n",
    "train_iter = zip(\n",
    "    mt_sequences_train, \n",
    "    mt_spaces_train, \n",
    "    mt_texts_train, \n",
    "    ht_sequences_train)\n",
    "for i, (mt_words, line_spaces, mt_orig, ht_orig) in enumerate(tqdm(train_iter, total=len(mt_sequences_train))):\n",
    "    # print(line_spaces)\n",
    "    # print(mt_words)\n",
    "    # mt_orig = \" \".join(mt_words)\n",
    "    best = mt_orig\n",
    "    # temporary disable the following lines\n",
    "    replacements = [\n",
    "        [join_if_tuple(w) + s for w, s in zip(mt_split, postprocess_spaces(spaces_after))]\n",
    "        for mt_split, refs, spaces_after in fixer.split_words(mt_words, line_spaces, cutoff=0)\n",
    "    ]\n",
    "    replacements = [\"\".join(words) for words in replacements]\n",
    "\n",
    "    #replacements = [\n",
    "    #    (\"\".join([w + s for w, s in zip(mt_split, spaces_after)]), spaces_after) \n",
    "    #    \n",
    "    #]\n",
    "    # replacements, spaces_after = list(zip(*replacements))\n",
    "    # replacements = list(replacements)\n",
    "    if len(replacements) > 2:\n",
    "        print(i, len(replacements))\n",
    "        print(\"mt orig\", mt_orig)\n",
    "        print(replacements)\n",
    "        # print(spaces_after)\n",
    "        print(line_spaces)\n",
    "        # break\n",
    "    \n",
    "    best, is_corrected = lm_score(mt_orig, replacements, lm=language_model, return_corrected=True)\n",
    "    if is_corrected:\n",
    "        corrected_count += 1\n",
    "    corrected_texts.append(best)\n",
    "    # break"
   ]
  },
  {
   "cell_type": "code",
   "execution_count": 19,
   "metadata": {},
   "outputs": [],
   "source": [
    "# for mt_split, refs, spaces_after in fixer.split_words(mt_words, line_spaces, cutoff=5):\n",
    "#     print(mt_split, refs, spaces_after)\n",
    "# print(ht_orig)"
   ]
  },
  {
   "cell_type": "code",
   "execution_count": 20,
   "metadata": {},
   "outputs": [
    {
     "data": {
      "text/plain": [
       "494"
      ]
     },
     "execution_count": 20,
     "metadata": {},
     "output_type": "execute_result"
    }
   ],
   "source": [
    "unicodedata.name(\"σ\"), unicodedata.name(\"ς\")\n",
    "corrected_count\n",
    "# fixer.split_matrix\n",
    "# best, is_corrected = lm_score(mt_orig, replacements, lm=language_model, return_corrected=True)\n",
    "# best, ht_orig"
   ]
  },
  {
   "cell_type": "code",
   "execution_count": 21,
   "metadata": {},
   "outputs": [
    {
     "data": {
      "application/vnd.jupyter.widget-view+json": {
       "model_id": "504b590e37454a5685f111573bceec84",
       "version_major": 2,
       "version_minor": 0
      },
      "text/plain": [
       "  0%|          | 0/1869 [00:00<?, ?it/s]"
      ]
     },
     "metadata": {},
     "output_type": "display_data"
    },
    {
     "name": "stdout",
     "output_type": "stream",
     "text": [
      "mt_original:  ['γη', 'του', 'πτωχουεντοις', 'οικοιςχμῶν', 'ωστεκακα']\n",
      "ht: ['γὴ', 'τοῦ', 'πτωχοῦ', 'ἐν', 'τοῖς', 'οἴκοις', 'ὑμῶν', 'ὥστε', 'καὶ', 'ἄ']\n",
      "(('γη',), ('του',), ('πτωχου', 'εν', 'τοις'), 'οικοιςχμῶν', 'ωστεκακα')\n"
     ]
    }
   ],
   "source": [
    "K = 6\n",
    "train_iter = zip(\n",
    "    mt_sequences_train[K:],\n",
    "    mt_spaces_train[K:],\n",
    "    mt_texts_train[K:],\n",
    "    ht_sequences_train[K:]\n",
    ")\n",
    "\n",
    "for i, (mt_words, line_spaces, mt_orig, ht_orig) in enumerate(tqdm(train_iter, total=len(mt_sequences_train[K:]))):\n",
    "    break\n",
    "print(\"mt_original: \", mt_words)\n",
    "print(\"ht:\", ht_orig)\n",
    "for mt_split, refs, spaces_after in fixer.split_words(mt_words, line_spaces, cutoff=0):\n",
    "    print(mt_split)\n",
    "\n"
   ]
  },
  {
   "cell_type": "code",
   "execution_count": 22,
   "metadata": {},
   "outputs": [],
   "source": [
    "# for mt_split, refs, spaces_after in fixer.resplit(mt_words, line_spaces):\n",
    "#     print(mt_split, spaces_after, line_spaces)\n",
    "\n",
    "# ht_orig, mt_orig\n",
    "\n",
    "    \n",
    "\n",
    "# [postprocess_sigmas(t) for t in corrected_texts]"
   ]
  },
  {
   "cell_type": "code",
   "execution_count": 23,
   "metadata": {},
   "outputs": [],
   "source": [
    "# print(ht_sequences_train[-1])\n",
    "#print(\"mt:\", mt_words)\n",
    "#for k, v, spaces_after in fixer.split_words(mt_words, line_spaces):\n",
    "#    print(k, v, spaces_after)"
   ]
  },
  {
   "cell_type": "code",
   "execution_count": 24,
   "metadata": {},
   "outputs": [],
   "source": [
    "# fixer.dmatrix\n",
    "#fixer.split_matrix"
   ]
  },
  {
   "cell_type": "code",
   "execution_count": 25,
   "metadata": {},
   "outputs": [],
   "source": [
    "from metrics import compute_metrics"
   ]
  },
  {
   "cell_type": "code",
   "execution_count": 26,
   "metadata": {},
   "outputs": [
    {
     "name": "stdout",
     "output_type": "stream",
     "text": [
      "Unmodified:\n",
      "Candidate CER: 33.5209896862459\n",
      "Candidate CERR: 0.7340852910467\n",
      "Corrected sigmas:\n",
      "Candidate CER: 33.5209896862459\n",
      "Candidate CERR: 0.7340852910467\n",
      "corrected deltas:\n",
      "Candidate CER: 33.52234104599725\n",
      "Candidate CERR: 0.7327339312953401\n"
     ]
    }
   ],
   "source": [
    "ht_texts = train_df.HUMAN_TRANSCRIPTION.values\n",
    "mt_texts = train_df.SYSTEM_TRANSCRIPTION_raw.values\n",
    "ct = [lmr(t, lm=language_model) for t in corrected_texts]\n",
    "ct2 = [fix_accent_diphthong(t) for t in ct]\n",
    "ct2 = [lmr(t, word=\" δ \", replacements=[\"δ \", \" δ\", \" \"], lm=language_model) for t in ct]\n",
    "print(\"Unmodified:\")\n",
    "cerr_values_ht, cerr_values = compute_metrics(ht_texts, mt_texts, corrected_texts)\n",
    "print(\"Corrected sigmas:\")\n",
    "cerr_values_ht1, cerr_values1 = compute_metrics(ht_texts, mt_texts, ct)\n",
    "print(\"corrected deltas:\")\n",
    "cerr_values_ht2, cerr_values2 = compute_metrics(ht_texts, mt_texts, ct2)"
   ]
  },
  {
   "cell_type": "code",
   "execution_count": 27,
   "metadata": {},
   "outputs": [
    {
     "name": "stdout",
     "output_type": "stream",
     "text": [
      "-5.555555555555557\n",
      "'τοῦ δυσιν εσαιλόγος σξωην ἐκρ'\n",
      "'τοῦ Θῦ γίνεται Λόγος, ὡς ζωή νεκροῖς' 'τοῦ δυσιν εσαιλόγος ς ξωην ἐκρ'\n",
      "-4.761904761904763\n",
      "'ουτων πα δι ων δεξησιου'\n",
      "'ουτων παιδιων δεξηται' 'ουτων πα διων δεξησιου'\n",
      "-4.347826086956523\n",
      "'ματιωμοι ωσ α ταιαὐτόντ ει ο κρα τοςμον τρος εεφη'\n",
      "'ματι ὁμοιώσατε αὐτόν; Τὸ κράτος μου πρὸς σὲ φυ' 'ματιωμοι ωσα ταιαὐτόντ ειο κρα τοςμον τρος εεφη'\n",
      "-3.846153846153843\n",
      "'με του σιαθεοφιλους τορψης'\n",
      "'μετουσία θεοφιλοῦς ἑορτῆς.' 'μετου σιαθεοφιλους τορψης'\n",
      "-3.571428571428573\n",
      "'δε τα της αλιλαιας, καὶ οὐκ'\n",
      "'διὰ τῆς Γαλιλαίας, καὶ οὐκ ἤ' 'δετατης αλιλαιας, καὶ οὐκ'\n"
     ]
    }
   ],
   "source": [
    "diff_cer = (cerr_values_ht - cerr_values)\n",
    "idx = np.argsort(diff_cer)\n",
    "for i in idx[:5]:\n",
    "    print(diff_cer[i])\n",
    "    print(repr(ct[i]))\n",
    "    print(repr(ht_texts[i]), repr(mt_texts[i]))"
   ]
  },
  {
   "cell_type": "code",
   "execution_count": 28,
   "metadata": {},
   "outputs": [],
   "source": [
    "test_df[\"SYSTEM_TRANSCRIPTION_raw\"] = test_df.SYSTEM_TRANSCRIPTION\n",
    "test_df[\"SYSTEM_TRANSCRIPTION\"] = test_df.SYSTEM_TRANSCRIPTION.apply(lambda x: lmr(x, lm=language_model))"
   ]
  },
  {
   "cell_type": "code",
   "execution_count": 29,
   "metadata": {},
   "outputs": [
    {
     "data": {
      "application/vnd.jupyter.widget-view+json": {
       "model_id": "78dc8925b48642f7bd47db5684d77d67",
       "version_major": 2,
       "version_minor": 0
      },
      "text/plain": [
       "  0%|          | 0/338 [00:00<?, ?it/s]"
      ]
     },
     "metadata": {},
     "output_type": "display_data"
    }
   ],
   "source": [
    "mt_orig_test = test_df.SYSTEM_TRANSCRIPTION.values\n",
    "mt_sequences_test = test_df.SYSTEM_TRANSCRIPTION.apply(lambda x: word_regex.split(x)).values\n",
    "mt_spaces_test = test_df.SYSTEM_TRANSCRIPTION.apply(extract_spaces_dict).values\n",
    "corrected_texts_test = []\n",
    "for i, (mt_words, line_spaces, mt_orig) in enumerate(tqdm(zip(mt_sequences_test, mt_spaces_test, mt_orig_test), total=len(mt_sequences_test))):\n",
    "    # print(i)\n",
    "    # print(mt_words)\n",
    "    # mt_orig = \" \".join(mt_words)\n",
    "    # temporary disable the following lines\n",
    "    best = mt_orig\n",
    "    # replacements = [\"\".join([w+s for w, s in zip(mt_split, spaces_after)]) for mt_split, refs, spaces_after in fixer.split_words(mt_words, mt_spaces)]\n",
    "    replacements = [\n",
    "        [join_if_tuple(w) + s for w, s in zip(mt_split, postprocess_spaces(spaces_after))]\n",
    "        for mt_split, refs, spaces_after in fixer.split_words(mt_words, line_spaces, cutoff=0)\n",
    "    ]\n",
    "    replacements = [\"\".join(words) for words in replacements]\n",
    "    best = lm_score(mt_orig, replacements, lm=language_model)\n",
    "    corrected_texts_test.append(best)"
   ]
  },
  {
   "cell_type": "code",
   "execution_count": 30,
   "metadata": {},
   "outputs": [
    {
     "name": "stdout",
     "output_type": "stream",
     "text": [
      "0\n",
      "2\n",
      "49\n"
     ]
    }
   ],
   "source": [
    "corrected_texts_test1 = [lmr(t, lm=language_model) for t in corrected_texts_test]\n",
    "print(np.sum([t1!= t for t1, t in zip(corrected_texts_test1, corrected_texts_test)]))\n",
    "# corrected_texts_test2 = [\n",
    "#     lmr(t, word=\" δ \", replacements=[\"δ \", \" δ\", \" \"], lm=language_model)\n",
    "#     for t in corrected_texts_test1\n",
    "# ]\n",
    "corrected_texts_test2 = [fix_accent_diphthong(t) for t in corrected_texts_test1]\n",
    "print(np.sum([t1 != t for t1, t in zip(corrected_texts_test2, corrected_texts_test)]))\n",
    "print(np.sum([t1 != t for t1, t in zip(corrected_texts_test2, mt_orig_test)]))"
   ]
  },
  {
   "cell_type": "code",
   "execution_count": 31,
   "metadata": {},
   "outputs": [
    {
     "data": {
      "text/html": [
       "<div>\n",
       "<style scoped>\n",
       "    .dataframe tbody tr th:only-of-type {\n",
       "        vertical-align: middle;\n",
       "    }\n",
       "\n",
       "    .dataframe tbody tr th {\n",
       "        vertical-align: top;\n",
       "    }\n",
       "\n",
       "    .dataframe thead th {\n",
       "        text-align: right;\n",
       "    }\n",
       "</style>\n",
       "<table border=\"1\" class=\"dataframe\">\n",
       "  <thead>\n",
       "    <tr style=\"text-align: right;\">\n",
       "      <th></th>\n",
       "      <th>ImageID</th>\n",
       "      <th>Transcriptions</th>\n",
       "    </tr>\n",
       "  </thead>\n",
       "  <tbody>\n",
       "    <tr>\n",
       "      <th>110</th>\n",
       "      <td>105 Bodleian-Library-MS-Barocci-59_00085_fol-4...</td>\n",
       "      <td>τὲ πρμον ην τὴν αν θησιν τὴν σρ</td>\n",
       "    </tr>\n",
       "  </tbody>\n",
       "</table>\n",
       "</div>"
      ],
      "text/plain": [
       "                                               ImageID  \\\n",
       "110  105 Bodleian-Library-MS-Barocci-59_00085_fol-4...   \n",
       "\n",
       "                      Transcriptions  \n",
       "110  τὲ πρμον ην τὴν αν θησιν τὴν σρ  "
      ]
     },
     "execution_count": 31,
     "metadata": {},
     "output_type": "execute_result"
    }
   ],
   "source": [
    "submission = pd.DataFrame(\n",
    "    zip(test_df.IMAGE_PATH, corrected_texts_test2),\n",
    "    columns=[\"ImageID\", \"Transcriptions\"]\n",
    ")\n",
    "submission.sample()"
   ]
  },
  {
   "cell_type": "code",
   "execution_count": 32,
   "metadata": {},
   "outputs": [],
   "source": [
    "submission.to_csv(\"submission.csv\", index=False)"
   ]
  },
  {
   "cell_type": "code",
   "execution_count": 33,
   "metadata": {},
   "outputs": [
    {
     "data": {
      "text/html": [
       "<pre style=\"white-space:pre;overflow-x:auto;line-height:normal;font-family:Menlo,'DejaVu Sans Mono',consolas,'Courier New',monospace\"><span style=\"color: #000080; text-decoration-color: #000080; font-weight: bold\">submission.csv</span> <span style=\"color: #729c1f; text-decoration-color: #729c1f\">━━━━━━━━━━━━━━━━━━━━━━━━━━━━━━━━━</span> <span style=\"color: #800080; text-decoration-color: #800080\">100.0%</span> • <span style=\"color: #008000; text-decoration-color: #008000\">45.3/43.7 KB</span> • <span style=\"color: #800000; text-decoration-color: #800000\">289.1 kB/s</span> • <span style=\"color: #008080; text-decoration-color: #008080\">0:00:00</span>\n",
       "</pre>\n"
      ],
      "text/plain": [
       "\u001b[1;34msubmission.csv\u001b[0m \u001b[38;2;114;156;31m━━━━━━━━━━━━━━━━━━━━━━━━━━━━━━━━━\u001b[0m \u001b[35m100.0%\u001b[0m • \u001b[32m45.3/43.7 KB\u001b[0m • \u001b[31m289.1 kB/s\u001b[0m • \u001b[36m0:00:00\u001b[0m\n"
      ]
     },
     "metadata": {},
     "output_type": "display_data"
    },
    {
     "data": {
      "text/html": [
       "<pre style=\"white-space:pre;overflow-x:auto;line-height:normal;font-family:Menlo,'DejaVu Sans Mono',consolas,'Courier New',monospace\"></pre>\n"
      ],
      "text/plain": []
     },
     "metadata": {},
     "output_type": "display_data"
    },
    {
     "data": {
      "text/html": [
       "<pre style=\"white-space:pre;overflow-x:auto;line-height:normal;font-family:Menlo,'DejaVu Sans Mono',consolas,'Courier New',monospace\">\n",
       "</pre>\n"
      ],
      "text/plain": [
       "\n"
      ]
     },
     "metadata": {},
     "output_type": "display_data"
    },
    {
     "data": {
      "text/html": [
       "<pre style=\"white-space:pre;overflow-x:auto;line-height:normal;font-family:Menlo,'DejaVu Sans Mono',consolas,'Courier New',monospace\">                                    ╭─────────────────────────╮                                     \n",
       "                                    │ <span style=\"font-weight: bold\">Successfully submitted!</span> │                                     \n",
       "                                    ╰─────────────────────────╯                                     \n",
       "</pre>\n"
      ],
      "text/plain": [
       "                                    ╭─────────────────────────╮                                     \n",
       "                                    │ \u001b[1mSuccessfully submitted!\u001b[0m │                                     \n",
       "                                    ╰─────────────────────────╯                                     \n"
      ]
     },
     "metadata": {},
     "output_type": "display_data"
    },
    {
     "data": {
      "text/html": [
       "<pre style=\"white-space:pre;overflow-x:auto;line-height:normal;font-family:Menlo,'DejaVu Sans Mono',consolas,'Courier New',monospace\"><span style=\"font-style: italic\">                                          Important links                                           </span>\n",
       "┌──────────────────┬───────────────────────────────────────────────────────────────────────────────┐\n",
       "│  This submission │ https://www.aicrowd.com/challenges/htrec-2022/submissions/191913              │\n",
       "│                  │                                                                               │\n",
       "│  All submissions │ https://www.aicrowd.com/challenges/htrec-2022/submissions?my_submissions=true │\n",
       "│                  │                                                                               │\n",
       "│      Leaderboard │ https://www.aicrowd.com/challenges/htrec-2022/leaderboards                    │\n",
       "│                  │                                                                               │\n",
       "│ Discussion forum │ https://discourse.aicrowd.com/c/htrec-2022                                    │\n",
       "│                  │                                                                               │\n",
       "│   Challenge page │ https://www.aicrowd.com/challenges/htrec-2022                                 │\n",
       "└──────────────────┴───────────────────────────────────────────────────────────────────────────────┘\n",
       "</pre>\n"
      ],
      "text/plain": [
       "\u001b[3m                                          Important links                                           \u001b[0m\n",
       "┌──────────────────┬───────────────────────────────────────────────────────────────────────────────┐\n",
       "│  This submission │ https://www.aicrowd.com/challenges/htrec-2022/submissions/191913              │\n",
       "│                  │                                                                               │\n",
       "│  All submissions │ https://www.aicrowd.com/challenges/htrec-2022/submissions?my_submissions=true │\n",
       "│                  │                                                                               │\n",
       "│      Leaderboard │ https://www.aicrowd.com/challenges/htrec-2022/leaderboards                    │\n",
       "│                  │                                                                               │\n",
       "│ Discussion forum │ https://discourse.aicrowd.com/c/htrec-2022                                    │\n",
       "│                  │                                                                               │\n",
       "│   Challenge page │ https://www.aicrowd.com/challenges/htrec-2022                                 │\n",
       "└──────────────────┴───────────────────────────────────────────────────────────────────────────────┘\n"
      ]
     },
     "metadata": {},
     "output_type": "display_data"
    },
    {
     "name": "stdout",
     "output_type": "stream",
     "text": [
      "{'submission_id': 191913, 'created_at': '2022-07-01T21:29:57.726Z'}\n"
     ]
    }
   ],
   "source": [
    "%aicrowd submission create -c htrec-2022 -f submission.csv"
   ]
  },
  {
   "cell_type": "code",
   "execution_count": null,
   "metadata": {},
   "outputs": [],
   "source": [
    "#test_spaces = test_df.SYSTEM_TRANSCRIPTION.apply(lambda x: [w for w in word_regex2.split(x) if word_regex.match(w)]).values\n",
    "#train_spaces1 = train_df.SYSTEM_TRANSCRIPTION.apply(lambda x: [w for w in word_regex2.split(x) if word_regex.match(w)]).values\n",
    "#train_spaces2 = train_df.HUMAN_TRANSCRIPTION.apply(lambda x: [w for w in word_regex2.split(x) if word_regex.match(w)]).values"
   ]
  },
  {
   "cell_type": "code",
   "execution_count": null,
   "metadata": {},
   "outputs": [],
   "source": [
    "#from collections import Counter\n",
    "#Counter([x for xs in test_spaces for xss in xs for x in xss])"
   ]
  },
  {
   "cell_type": "code",
   "execution_count": null,
   "metadata": {},
   "outputs": [],
   "source": [
    "#Counter([x for xs in train_spaces1 for xss in xs for x in xss])"
   ]
  },
  {
   "cell_type": "code",
   "execution_count": null,
   "metadata": {},
   "outputs": [],
   "source": [
    "# Counter([x for xs in train_spaces2 for xss in xs for x in xss])"
   ]
  },
  {
   "cell_type": "code",
   "execution_count": 152,
   "metadata": {},
   "outputs": [],
   "source": [
    "# n_corrected = 0\n",
    "# for corrected, mt_orig, ht_orig in zip(\n",
    "#         corrected_texts, mt_texts_train, ht_sequences_train):\n",
    "#     if mt_orig==corrected:\n",
    "#         print(repr(mt_orig))\n",
    "#         print( repr(corrected))\n",
    "#         print(ht_orig)\n",
    "#         print(\"---\")\n",
    "#         n_corrected+=1"
   ]
  },
  {
   "cell_type": "code",
   "execution_count": null,
   "metadata": {},
   "outputs": [],
   "source": []
  },
  {
   "cell_type": "code",
   "execution_count": 151,
   "metadata": {},
   "outputs": [],
   "source": [
    "# def has_accents(text):\n",
    "#     # print(text)\n",
    "#     accents = [unicodedata.name(x).find(\" WITH \") > 0 for word in text for x in word]\n",
    "#     return np.any(accents)\n",
    "# def extract_short_words(text, n=3):\n",
    "#     # print(text)\n",
    "#     return [word for word in text if len(word) == n]\n",
    "# info = []\n",
    "# for mt_text, ht_orig in zip(mt_texts_train, ht_sequences_train):\n",
    "#     mt_orig = word_regex.split(mt_text)\n",
    "#     info.append({\n",
    "#         \"mt_accent\": has_accents(mt_orig),\n",
    "#         \"ht_accent\": has_accents(ht_orig),\n",
    "#         \"mt_short3\": extract_short_words(mt_orig, 3),\n",
    "#         \"ht_short3\": extract_short_words(ht_orig, 3)\n",
    "#     })\n",
    "#     # print(info)\n",
    "#     #break\n",
    "# df = pd.DataFrame(info)"
   ]
  },
  {
   "cell_type": "code",
   "execution_count": null,
   "metadata": {},
   "outputs": [],
   "source": []
  },
  {
   "cell_type": "code",
   "execution_count": 104,
   "metadata": {},
   "outputs": [],
   "source": [
    "# df[[\"mt_accent\", \"ht_accent\"]].corr()"
   ]
  },
  {
   "cell_type": "code",
   "execution_count": 103,
   "metadata": {},
   "outputs": [],
   "source": [
    "# train_df['accent'] = df.ht_accent"
   ]
  },
  {
   "cell_type": "code",
   "execution_count": 102,
   "metadata": {},
   "outputs": [],
   "source": [
    "# train_df.groupby(\"CENTURY\").mean()[\"accent\"]"
   ]
  },
  {
   "cell_type": "code",
   "execution_count": 149,
   "metadata": {},
   "outputs": [],
   "source": [
    "\n",
    "# from common import remove_caps\n",
    "# df.groupby(\"ht_accent\").mean()[\"mt_accent\"]\n",
    "# ht_words = [x for xs in df[df[\"ht_accent\"]].ht_short3.values for x in xs \n",
    "#  if remove_cap(x) == remove_cap(\"μου\")\n",
    "# ]"
   ]
  },
  {
   "cell_type": "code",
   "execution_count": 150,
   "metadata": {},
   "outputs": [],
   "source": [
    "# from collections import Counter\n",
    "# sorted(Counter(ht_words).items(), key=lambda x: -x[1])"
   ]
  },
  {
   "cell_type": "code",
   "execution_count": 148,
   "metadata": {},
   "outputs": [],
   "source": [
    "# Counter([x for xs in df.mt_short3.values for x in xs if remove_cap(x) == remove_cap(\"μου\")])"
   ]
  },
  {
   "cell_type": "code",
   "execution_count": null,
   "metadata": {},
   "outputs": [],
   "source": []
  }
 ],
 "metadata": {
  "kernelspec": {
   "display_name": "Python 3.7.13 ('data_env')",
   "language": "python",
   "name": "python3"
  },
  "language_info": {
   "codemirror_mode": {
    "name": "ipython",
    "version": 3
   },
   "file_extension": ".py",
   "mimetype": "text/x-python",
   "name": "python",
   "nbconvert_exporter": "python",
   "pygments_lexer": "ipython3",
   "version": "3.7.13"
  },
  "orig_nbformat": 4,
  "vscode": {
   "interpreter": {
    "hash": "d632e93423067b2b9b1b8d52846f85c868da433699adad534ad2cc6673775271"
   }
  }
 },
 "nbformat": 4,
 "nbformat_minor": 2
}
