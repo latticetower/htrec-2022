{
 "cells": [
  {
   "cell_type": "code",
   "execution_count": 1,
   "metadata": {},
   "outputs": [],
   "source": [
    "%load_ext autoreload\n",
    "%autoreload 2"
   ]
  },
  {
   "cell_type": "code",
   "execution_count": 2,
   "metadata": {},
   "outputs": [],
   "source": [
    "import random\n",
    "import pandas as pd\n",
    "import numpy as np\n",
    "from pathlib import Path"
   ]
  },
  {
   "cell_type": "code",
   "execution_count": 3,
   "metadata": {},
   "outputs": [],
   "source": [
    "# fix seeds, make everything reproducible, etc (at least try to).\n",
    "SEED = 42\n",
    "np.random.seed(SEED)\n",
    "random.seed(SEED)\n",
    "\n",
    "DATADIR = \"../data\"\n",
    "\n",
    "MAX_WORDS = 4"
   ]
  },
  {
   "cell_type": "code",
   "execution_count": 4,
   "metadata": {},
   "outputs": [],
   "source": [
    "# !pip install aicrowd-cli\n",
    "%load_ext aicrowd.magic"
   ]
  },
  {
   "cell_type": "code",
   "execution_count": 5,
   "metadata": {},
   "outputs": [
    {
     "name": "stdout",
     "output_type": "stream",
     "text": [
      "\u001b[32mAPI Key valid\u001b[0m\n",
      "\u001b[33mGitlab oauth token invalid or absent.\n",
      "It is highly recommended to simply run `aicrowd login` without passing the API Key.\u001b[0m\n",
      "\u001b[32mSaved details successfully!\u001b[0m\n"
     ]
    }
   ],
   "source": [
    "%aicrowd login"
   ]
  },
  {
   "cell_type": "code",
   "execution_count": 6,
   "metadata": {},
   "outputs": [
    {
     "data": {
      "application/vnd.jupyter.widget-view+json": {
       "model_id": "684704a7d0dd4533aa44dd2f78a9d7a7",
       "version_major": 2,
       "version_minor": 0
      },
      "text/plain": [
       "train.csv:   0%|          | 0.00/395k [00:00<?, ?B/s]"
      ]
     },
     "metadata": {},
     "output_type": "display_data"
    },
    {
     "data": {
      "application/vnd.jupyter.widget-view+json": {
       "model_id": "729be83683e24d5da6c7f8e605d3f45e",
       "version_major": 2,
       "version_minor": 0
      },
      "text/plain": [
       "test.csv:   0%|          | 0.00/45.5k [00:00<?, ?B/s]"
      ]
     },
     "metadata": {},
     "output_type": "display_data"
    }
   ],
   "source": [
    "import re\n",
    "if Path(DATADIR).exists():\n",
    "  !rm -rf $DATADIR\n",
    "!mkdir $DATADIR\n",
    "%aicrowd ds dl -c htrec-2022 -o $DATADIR"
   ]
  },
  {
   "cell_type": "code",
   "execution_count": 7,
   "metadata": {},
   "outputs": [
    {
     "data": {
      "text/html": [
       "<div>\n",
       "<style scoped>\n",
       "    .dataframe tbody tr th:only-of-type {\n",
       "        vertical-align: middle;\n",
       "    }\n",
       "\n",
       "    .dataframe tbody tr th {\n",
       "        vertical-align: top;\n",
       "    }\n",
       "\n",
       "    .dataframe thead th {\n",
       "        text-align: right;\n",
       "    }\n",
       "</style>\n",
       "<table border=\"1\" class=\"dataframe\">\n",
       "  <thead>\n",
       "    <tr style=\"text-align: right;\">\n",
       "      <th></th>\n",
       "      <th>HUMAN_TRANSCRIPTION</th>\n",
       "      <th>SYSTEM_TRANSCRIPTION</th>\n",
       "      <th>CENTURY</th>\n",
       "      <th>IMAGE_PATH</th>\n",
       "      <th>TEXT_LINE_NUM</th>\n",
       "    </tr>\n",
       "  </thead>\n",
       "  <tbody>\n",
       "    <tr>\n",
       "      <th>0</th>\n",
       "      <td>ἐγγινομένα πάθη μὴ σβεννύντες ἀλλὰ τῆ εκλύσει</td>\n",
       "      <td>ἐγγενομεναπαδημησμεννωτες ἀλλατῆε κλησει</td>\n",
       "      <td>11</td>\n",
       "      <td>1 Bodleian-Library-MS-Barocci-102_00157_fol-75...</td>\n",
       "      <td>1</td>\n",
       "    </tr>\n",
       "    <tr>\n",
       "      <th>1</th>\n",
       "      <td>τοῦ βίου τοῦ καθ ΄ εαυτοὺς πολλὰ γίνεσθαι συγχ...</td>\n",
       "      <td>του β ου του καλεαυτοὺς πολλαγινεσθαι συγχωρ όν</td>\n",
       "      <td>11</td>\n",
       "      <td>1 Bodleian-Library-MS-Barocci-102_00157_fol-75...</td>\n",
       "      <td>2</td>\n",
       "    </tr>\n",
       "    <tr>\n",
       "      <th>2</th>\n",
       "      <td>τες ἐμπυρίζουσι τὸν ἀμπελῶνα ἀλλὰ καὶ ὁ διὰ</td>\n",
       "      <td>τες εμπυριζου σιμαμπελῶνα ἀλλακαι ὅδξα</td>\n",
       "      <td>11</td>\n",
       "      <td>1 Bodleian-Library-MS-Barocci-102_00157_fol-75...</td>\n",
       "      <td>3</td>\n",
       "    </tr>\n",
       "    <tr>\n",
       "      <th>3</th>\n",
       "      <td>τῆς ἡδεῖας πλεονεξίας πολλοὺς εἰς τὴν τῶν ἀλλ</td>\n",
       "      <td>της ἐδίας πλσον ἐξιας πολλους ἐις τὴν τῶν ἀλ</td>\n",
       "      <td>11</td>\n",
       "      <td>1 Bodleian-Library-MS-Barocci-102_00157_fol-75...</td>\n",
       "      <td>4</td>\n",
       "    </tr>\n",
       "    <tr>\n",
       "      <th>4</th>\n",
       "      <td>οτρίων ἐπιθυμίαν προκαλούμενος ἐμπυρί</td>\n",
       "      <td>λοτρλων ἐπιθυμιαν προκαλουμένος ἐμπυρι</td>\n",
       "      <td>11</td>\n",
       "      <td>1 Bodleian-Library-MS-Barocci-102_00157_fol-75...</td>\n",
       "      <td>5</td>\n",
       "    </tr>\n",
       "  </tbody>\n",
       "</table>\n",
       "</div>"
      ],
      "text/plain": [
       "                                 HUMAN_TRANSCRIPTION  \\\n",
       "0      ἐγγινομένα πάθη μὴ σβεννύντες ἀλλὰ τῆ εκλύσει   \n",
       "1  τοῦ βίου τοῦ καθ ΄ εαυτοὺς πολλὰ γίνεσθαι συγχ...   \n",
       "2        τες ἐμπυρίζουσι τὸν ἀμπελῶνα ἀλλὰ καὶ ὁ διὰ   \n",
       "3      τῆς ἡδεῖας πλεονεξίας πολλοὺς εἰς τὴν τῶν ἀλλ   \n",
       "4              οτρίων ἐπιθυμίαν προκαλούμενος ἐμπυρί   \n",
       "\n",
       "                              SYSTEM_TRANSCRIPTION  CENTURY  \\\n",
       "0         ἐγγενομεναπαδημησμεννωτες ἀλλατῆε κλησει       11   \n",
       "1  του β ου του καλεαυτοὺς πολλαγινεσθαι συγχωρ όν       11   \n",
       "2           τες εμπυριζου σιμαμπελῶνα ἀλλακαι ὅδξα       11   \n",
       "3     της ἐδίας πλσον ἐξιας πολλους ἐις τὴν τῶν ἀλ       11   \n",
       "4           λοτρλων ἐπιθυμιαν προκαλουμένος ἐμπυρι       11   \n",
       "\n",
       "                                          IMAGE_PATH  TEXT_LINE_NUM  \n",
       "0  1 Bodleian-Library-MS-Barocci-102_00157_fol-75...              1  \n",
       "1  1 Bodleian-Library-MS-Barocci-102_00157_fol-75...              2  \n",
       "2  1 Bodleian-Library-MS-Barocci-102_00157_fol-75...              3  \n",
       "3  1 Bodleian-Library-MS-Barocci-102_00157_fol-75...              4  \n",
       "4  1 Bodleian-Library-MS-Barocci-102_00157_fol-75...              5  "
      ]
     },
     "execution_count": 7,
     "metadata": {},
     "output_type": "execute_result"
    }
   ],
   "source": [
    "import pywer\n",
    "train_df = pd.read_csv( f\"{DATADIR}/train.csv\")\n",
    "test_df = pd.read_csv(f\"{DATADIR}/test.csv\")\n",
    "\n",
    "word_regex = re.compile(\"\\W+\")\n",
    "word_regex2 = re.compile(\"(\\W+)\")\n",
    "\n",
    "train_df.head()"
   ]
  },
  {
   "cell_type": "code",
   "execution_count": 8,
   "metadata": {},
   "outputs": [],
   "source": [
    "# !pip install nltk"
   ]
  },
  {
   "cell_type": "code",
   "execution_count": 9,
   "metadata": {},
   "outputs": [],
   "source": [
    "for lib_dir in [\"..\", \"../src\"]:\n",
    "    if not lib_dir in sys.path:\n",
    "        sys.path.append(lib_dir)\n",
    "from lm_utils import *"
   ]
  },
  {
   "cell_type": "code",
   "execution_count": 10,
   "metadata": {},
   "outputs": [],
   "source": [
    "language_model = make_lm(train_df.HUMAN_TRANSCRIPTION.sum())"
   ]
  },
  {
   "cell_type": "code",
   "execution_count": 11,
   "metadata": {},
   "outputs": [],
   "source": [
    "from tqdm.auto import tqdm\n",
    "from datastruct import *\n",
    "from common import *\n",
    "from space_fixer import SpaceFixer\n",
    "\n",
    "# for ht_line, mt_line in tqdm(train_df[[\"HUMAN_TRANSCRIPTION\", \"SYSTEM_TRANSCRIPTION\"]].values[7:]):\n",
    "#     ht_words = word_regex.split(ht_line)\n",
    "#     mt_words = word_regex.split(mt_line)\n",
    "#     #words_ = [remove_cap(word) for word in words]\n",
    "#     #vocab.add_sentence(words)\n",
    "#     dmatrix = build_path_matrix(mt_words, vocabs)\n",
    "#     finished_paths = extract_paths(dmatrix)\n",
    "#     for k in resplit_paths(finished_paths, mt_words):\n",
    "#         variant = \" \".join(k)\n",
    "#         print(variant)\n",
    "#     break\n"
   ]
  },
  {
   "cell_type": "code",
   "execution_count": 12,
   "metadata": {},
   "outputs": [],
   "source": [
    "def extract_spaces_dict(x):\n",
    "    result = dict()\n",
    "    last_index = 0\n",
    "    for w in word_regex2.split(x):\n",
    "        if not word_regex.match(w):\n",
    "            last_index += 1\n",
    "        else:\n",
    "            result[last_index] = w\n",
    "    return result\n",
    "    "
   ]
  },
  {
   "cell_type": "code",
   "execution_count": 24,
   "metadata": {},
   "outputs": [
    {
     "data": {
      "application/vnd.jupyter.widget-view+json": {
       "model_id": "e5d0eadcf13a4a56b1f9a51ff9ddab79",
       "version_major": 2,
       "version_minor": 0
      },
      "text/plain": [
       "  0%|          | 0/1875 [00:00<?, ?it/s]"
      ]
     },
     "metadata": {},
     "output_type": "display_data"
    }
   ],
   "source": [
    "\n",
    "ht_sequences_train = train_df.HUMAN_TRANSCRIPTION.apply(lambda x: word_regex.split(x)).values\n",
    "mt_sequences_train = train_df.SYSTEM_TRANSCRIPTION.apply(lambda x: word_regex.split(x)).values\n",
    "mt_spaces_train = train_df.SYSTEM_TRANSCRIPTION.apply(extract_spaces_dict).values\n",
    "\n",
    "mt_texts_train = train_df.SYSTEM_TRANSCRIPTION.values\n",
    "fixer = SpaceFixer(MAX_WORDS)\n",
    "fixer.fill(ht_sequences_train)"
   ]
  },
  {
   "cell_type": "code",
   "execution_count": 25,
   "metadata": {},
   "outputs": [
    {
     "data": {
      "application/vnd.jupyter.widget-view+json": {
       "model_id": "5af204afa05c42f7b7be4b1ff28391d0",
       "version_major": 2,
       "version_minor": 0
      },
      "text/plain": [
       "  0%|          | 0/1875 [00:00<?, ?it/s]"
      ]
     },
     "metadata": {},
     "output_type": "display_data"
    }
   ],
   "source": [
    "corrected_texts = []\n",
    "train_iter = zip(mt_sequences_train, mt_spaces_train, mt_texts_train, ht_sequences_train)\n",
    "for i, (mt_words, line_spaces, mt_orig, ht_orig) in enumerate(tqdm(train_iter, total=len(mt_sequences_train))):\n",
    "    # print(line_spaces)\n",
    "    # print(mt_words)\n",
    "    # mt_orig = \" \".join(mt_words)\n",
    "    replacements = [\n",
    "        \"\".join([w + s for w, s in zip(mt_split, spaces_after)]) \n",
    "        for mt_split, refs, spaces_after in fixer.resplit(mt_words, line_spaces)\n",
    "    ]\n",
    "    best = lm_score(mt_orig, replacements, lm=language_model)\n",
    "    corrected_texts.append(best)"
   ]
  },
  {
   "cell_type": "code",
   "execution_count": 26,
   "metadata": {},
   "outputs": [
    {
     "name": "stdout",
     "output_type": "stream",
     "text": [
      "mt: ['δομενους', 'της', 'καταρας', 'ελευθερωσηψβοα']\n",
      "('δομενους', 'της', 'καταρας', 'ελευθερωση', 'ψ', 'βοα') [('δομενους',), ('τῆς', 'της'), ('καταρας',), ('ελευθερωση',), ('και',), ('βοα',)] [' ', ' ', ' ', ' ']\n"
     ]
    }
   ],
   "source": [
    "# print(ht_sequences_train[-1])\n",
    "print(\"mt:\", mt_words)\n",
    "for k, v, spaces_after in fixer.resplit(mt_words, line_spaces):\n",
    "    print(k, v, spaces_after)"
   ]
  },
  {
   "cell_type": "code",
   "execution_count": 27,
   "metadata": {},
   "outputs": [],
   "source": [
    "from metrics import compute_metrics"
   ]
  },
  {
   "cell_type": "code",
   "execution_count": 28,
   "metadata": {},
   "outputs": [
    {
     "name": "stdout",
     "output_type": "stream",
     "text": [
      "Candidate CER: 42.89912163907974\n",
      "Candidate CERR: -8.644046661787147\n"
     ]
    }
   ],
   "source": [
    "ht_texts = train_df.HUMAN_TRANSCRIPTION.values\n",
    "mt_texts = train_df.SYSTEM_TRANSCRIPTION.values\n",
    "compute_metrics(ht_texts, mt_texts, corrected_texts)"
   ]
  },
  {
   "cell_type": "code",
   "execution_count": 30,
   "metadata": {},
   "outputs": [
    {
     "data": {
      "application/vnd.jupyter.widget-view+json": {
       "model_id": "37eda52089d044c99fe62e22ffecbff3",
       "version_major": 2,
       "version_minor": 0
      },
      "text/plain": [
       "  0%|          | 0/338 [00:00<?, ?it/s]"
      ]
     },
     "metadata": {},
     "output_type": "display_data"
    }
   ],
   "source": [
    "mt_orig_test = test_df.SYSTEM_TRANSCRIPTION.values\n",
    "mt_sequences_test = test_df.SYSTEM_TRANSCRIPTION.apply(lambda x: word_regex.split(x)).values\n",
    "mt_spaces_test = test_df.SYSTEM_TRANSCRIPTION.apply(extract_spaces_dict).values\n",
    "corrected_texts_test = []\n",
    "for i, (mt_words, mt_spaces, mt_orig) in enumerate(tqdm(zip(mt_sequences_test, mt_spaces_test, mt_orig_test), total=len(mt_sequences_test))):\n",
    "    # print(i)\n",
    "    # print(mt_words)\n",
    "    # mt_orig = \" \".join(mt_words)\n",
    "    replacements = [\"\".join([w+s for w, s in zip(mt_split, spaces_after)]) for mt_split, refs, spaces_after in fixer.resplit(mt_words, mt_spaces)]\n",
    "    best = lm_score(mt_orig, replacements, lm=language_model)\n",
    "    corrected_texts_test.append(best)"
   ]
  },
  {
   "cell_type": "code",
   "execution_count": 31,
   "metadata": {},
   "outputs": [
    {
     "data": {
      "text/html": [
       "<div>\n",
       "<style scoped>\n",
       "    .dataframe tbody tr th:only-of-type {\n",
       "        vertical-align: middle;\n",
       "    }\n",
       "\n",
       "    .dataframe tbody tr th {\n",
       "        vertical-align: top;\n",
       "    }\n",
       "\n",
       "    .dataframe thead th {\n",
       "        text-align: right;\n",
       "    }\n",
       "</style>\n",
       "<table border=\"1\" class=\"dataframe\">\n",
       "  <thead>\n",
       "    <tr style=\"text-align: right;\">\n",
       "      <th></th>\n",
       "      <th>ImageID</th>\n",
       "      <th>Transcriptions</th>\n",
       "    </tr>\n",
       "  </thead>\n",
       "  <tbody>\n",
       "    <tr>\n",
       "      <th>251</th>\n",
       "      <td>12th Bodleian-Library-MS-Barocci-132_00631_fol...</td>\n",
       "      <td>φυλάκην ον πλεμω πληροῦντες, τὴν</td>\n",
       "    </tr>\n",
       "  </tbody>\n",
       "</table>\n",
       "</div>"
      ],
      "text/plain": [
       "                                               ImageID  \\\n",
       "251  12th Bodleian-Library-MS-Barocci-132_00631_fol...   \n",
       "\n",
       "                        Transcriptions  \n",
       "251  φυλάκην ον πλεμω πληροῦντες, τὴν   "
      ]
     },
     "execution_count": 31,
     "metadata": {},
     "output_type": "execute_result"
    }
   ],
   "source": [
    "submission = pd.DataFrame(zip(test_df.IMAGE_PATH, corrected_texts_test), columns=[\"ImageID\", \"Transcriptions\"])\n",
    "submission.sample()"
   ]
  },
  {
   "cell_type": "code",
   "execution_count": 32,
   "metadata": {},
   "outputs": [],
   "source": [
    "submission.to_csv(\"submission.csv\", index=False)"
   ]
  },
  {
   "cell_type": "code",
   "execution_count": 33,
   "metadata": {},
   "outputs": [
    {
     "data": {
      "text/html": [
       "<pre style=\"white-space:pre;overflow-x:auto;line-height:normal;font-family:Menlo,'DejaVu Sans Mono',consolas,'Courier New',monospace\"><span style=\"color: #000080; text-decoration-color: #000080; font-weight: bold\">submission.csv</span> <span style=\"color: #729c1f; text-decoration-color: #729c1f\">━━━━━━━━━━━━━━━━━━━━━━━━━━━━━━━━━</span> <span style=\"color: #800080; text-decoration-color: #800080\">100.0%</span> • <span style=\"color: #008000; text-decoration-color: #008000\">41.3/39.6 KB</span> • <span style=\"color: #800000; text-decoration-color: #800000\">400.5 kB/s</span> • <span style=\"color: #008080; text-decoration-color: #008080\">0:00:00</span>\n",
       "</pre>\n"
      ],
      "text/plain": [
       "\u001b[1;34msubmission.csv\u001b[0m \u001b[38;2;114;156;31m━━━━━━━━━━━━━━━━━━━━━━━━━━━━━━━━━\u001b[0m \u001b[35m100.0%\u001b[0m • \u001b[32m41.3/39.6 KB\u001b[0m • \u001b[31m400.5 kB/s\u001b[0m • \u001b[36m0:00:00\u001b[0m\n"
      ]
     },
     "metadata": {},
     "output_type": "display_data"
    },
    {
     "data": {
      "text/html": [
       "<pre style=\"white-space:pre;overflow-x:auto;line-height:normal;font-family:Menlo,'DejaVu Sans Mono',consolas,'Courier New',monospace\"></pre>\n"
      ],
      "text/plain": []
     },
     "metadata": {},
     "output_type": "display_data"
    },
    {
     "data": {
      "text/html": [
       "<pre style=\"white-space:pre;overflow-x:auto;line-height:normal;font-family:Menlo,'DejaVu Sans Mono',consolas,'Courier New',monospace\">\n",
       "</pre>\n"
      ],
      "text/plain": [
       "\n"
      ]
     },
     "metadata": {},
     "output_type": "display_data"
    },
    {
     "data": {
      "text/html": [
       "<pre style=\"white-space:pre;overflow-x:auto;line-height:normal;font-family:Menlo,'DejaVu Sans Mono',consolas,'Courier New',monospace\">                                    ╭─────────────────────────╮                                     \n",
       "                                    │ <span style=\"font-weight: bold\">Successfully submitted!</span> │                                     \n",
       "                                    ╰─────────────────────────╯                                     \n",
       "</pre>\n"
      ],
      "text/plain": [
       "                                    ╭─────────────────────────╮                                     \n",
       "                                    │ \u001b[1mSuccessfully submitted!\u001b[0m │                                     \n",
       "                                    ╰─────────────────────────╯                                     \n"
      ]
     },
     "metadata": {},
     "output_type": "display_data"
    },
    {
     "data": {
      "text/html": [
       "<pre style=\"white-space:pre;overflow-x:auto;line-height:normal;font-family:Menlo,'DejaVu Sans Mono',consolas,'Courier New',monospace\"><span style=\"font-style: italic\">                                          Important links                                           </span>\n",
       "┌──────────────────┬───────────────────────────────────────────────────────────────────────────────┐\n",
       "│  This submission │ https://www.aicrowd.com/challenges/htrec-2022/submissions/189598              │\n",
       "│                  │                                                                               │\n",
       "│  All submissions │ https://www.aicrowd.com/challenges/htrec-2022/submissions?my_submissions=true │\n",
       "│                  │                                                                               │\n",
       "│      Leaderboard │ https://www.aicrowd.com/challenges/htrec-2022/leaderboards                    │\n",
       "│                  │                                                                               │\n",
       "│ Discussion forum │ https://discourse.aicrowd.com/c/htrec-2022                                    │\n",
       "│                  │                                                                               │\n",
       "│   Challenge page │ https://www.aicrowd.com/challenges/htrec-2022                                 │\n",
       "└──────────────────┴───────────────────────────────────────────────────────────────────────────────┘\n",
       "</pre>\n"
      ],
      "text/plain": [
       "\u001b[3m                                          Important links                                           \u001b[0m\n",
       "┌──────────────────┬───────────────────────────────────────────────────────────────────────────────┐\n",
       "│  This submission │ https://www.aicrowd.com/challenges/htrec-2022/submissions/189598              │\n",
       "│                  │                                                                               │\n",
       "│  All submissions │ https://www.aicrowd.com/challenges/htrec-2022/submissions?my_submissions=true │\n",
       "│                  │                                                                               │\n",
       "│      Leaderboard │ https://www.aicrowd.com/challenges/htrec-2022/leaderboards                    │\n",
       "│                  │                                                                               │\n",
       "│ Discussion forum │ https://discourse.aicrowd.com/c/htrec-2022                                    │\n",
       "│                  │                                                                               │\n",
       "│   Challenge page │ https://www.aicrowd.com/challenges/htrec-2022                                 │\n",
       "└──────────────────┴───────────────────────────────────────────────────────────────────────────────┘\n"
      ]
     },
     "metadata": {},
     "output_type": "display_data"
    },
    {
     "name": "stdout",
     "output_type": "stream",
     "text": [
      "{'submission_id': 189598, 'created_at': '2022-06-19T16:10:50.026Z'}\n"
     ]
    }
   ],
   "source": [
    "%aicrowd submission create -c htrec-2022 -f submission.csv"
   ]
  },
  {
   "cell_type": "code",
   "execution_count": 34,
   "metadata": {},
   "outputs": [],
   "source": [
    "#test_spaces = test_df.SYSTEM_TRANSCRIPTION.apply(lambda x: [w for w in word_regex2.split(x) if word_regex.match(w)]).values\n",
    "#train_spaces1 = train_df.SYSTEM_TRANSCRIPTION.apply(lambda x: [w for w in word_regex2.split(x) if word_regex.match(w)]).values\n",
    "#train_spaces2 = train_df.HUMAN_TRANSCRIPTION.apply(lambda x: [w for w in word_regex2.split(x) if word_regex.match(w)]).values"
   ]
  },
  {
   "cell_type": "code",
   "execution_count": 35,
   "metadata": {},
   "outputs": [],
   "source": [
    "#from collections import Counter\n",
    "#Counter([x for xs in test_spaces for xss in xs for x in xss])"
   ]
  },
  {
   "cell_type": "code",
   "execution_count": 36,
   "metadata": {},
   "outputs": [],
   "source": [
    "#Counter([x for xs in train_spaces1 for xss in xs for x in xss])"
   ]
  },
  {
   "cell_type": "code",
   "execution_count": 37,
   "metadata": {},
   "outputs": [],
   "source": [
    "# Counter([x for xs in train_spaces2 for xss in xs for x in xss])"
   ]
  },
  {
   "cell_type": "code",
   "execution_count": null,
   "metadata": {},
   "outputs": [],
   "source": []
  }
 ],
 "metadata": {
  "kernelspec": {
   "display_name": "Python 3.7.13 ('data_env')",
   "language": "python",
   "name": "python3"
  },
  "language_info": {
   "codemirror_mode": {
    "name": "ipython",
    "version": 3
   },
   "file_extension": ".py",
   "mimetype": "text/x-python",
   "name": "python",
   "nbconvert_exporter": "python",
   "pygments_lexer": "ipython3",
   "version": "3.7.13"
  },
  "orig_nbformat": 4,
  "vscode": {
   "interpreter": {
    "hash": "d632e93423067b2b9b1b8d52846f85c868da433699adad534ad2cc6673775271"
   }
  }
 },
 "nbformat": 4,
 "nbformat_minor": 2
}
