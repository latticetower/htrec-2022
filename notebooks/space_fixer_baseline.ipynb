{
 "cells": [
  {
   "cell_type": "code",
   "execution_count": 15,
   "metadata": {},
   "outputs": [
    {
     "name": "stdout",
     "output_type": "stream",
     "text": [
      "The autoreload extension is already loaded. To reload it, use:\n",
      "  %reload_ext autoreload\n"
     ]
    }
   ],
   "source": [
    "%load_ext autoreload\n",
    "%autoreload 2"
   ]
  },
  {
   "cell_type": "code",
   "execution_count": 16,
   "metadata": {},
   "outputs": [],
   "source": [
    "import random\n",
    "import pandas as pd\n",
    "import numpy as np\n",
    "from pathlib import Path"
   ]
  },
  {
   "cell_type": "code",
   "execution_count": 17,
   "metadata": {},
   "outputs": [],
   "source": [
    "# fix seeds, make everything reproducible, etc (at least try to).\n",
    "SEED = 42\n",
    "np.random.seed(SEED)\n",
    "random.seed(SEED)\n",
    "\n",
    "DATADIR = \"../data\"\n",
    "\n",
    "MAX_WORDS = 4"
   ]
  },
  {
   "cell_type": "code",
   "execution_count": 18,
   "metadata": {},
   "outputs": [
    {
     "name": "stdout",
     "output_type": "stream",
     "text": [
      "The aicrowd.magic extension is already loaded. To reload it, use:\n",
      "  %reload_ext aicrowd.magic\n"
     ]
    }
   ],
   "source": [
    "# !pip install aicrowd-cli\n",
    "%load_ext aicrowd.magic"
   ]
  },
  {
   "cell_type": "code",
   "execution_count": 19,
   "metadata": {},
   "outputs": [
    {
     "name": "stdout",
     "output_type": "stream",
     "text": [
      "\u001b[32mAPI Key valid\u001b[0m\n",
      "\u001b[33mGitlab oauth token invalid or absent.\n",
      "It is highly recommended to simply run `aicrowd login` without passing the API Key.\u001b[0m\n",
      "\u001b[32mSaved details successfully!\u001b[0m\n"
     ]
    }
   ],
   "source": [
    "%aicrowd login"
   ]
  },
  {
   "cell_type": "code",
   "execution_count": 20,
   "metadata": {},
   "outputs": [
    {
     "data": {
      "application/vnd.jupyter.widget-view+json": {
       "model_id": "d74a99dda6464d9286717a5ed3533b34",
       "version_major": 2,
       "version_minor": 0
      },
      "text/plain": [
       "train.csv:   0%|          | 0.00/395k [00:00<?, ?B/s]"
      ]
     },
     "metadata": {},
     "output_type": "display_data"
    },
    {
     "data": {
      "application/vnd.jupyter.widget-view+json": {
       "model_id": "327ff8638e3d4668b4b0e07d96928aa1",
       "version_major": 2,
       "version_minor": 0
      },
      "text/plain": [
       "test.csv:   0%|          | 0.00/45.5k [00:00<?, ?B/s]"
      ]
     },
     "metadata": {},
     "output_type": "display_data"
    }
   ],
   "source": [
    "import re\n",
    "if Path(DATADIR).exists():\n",
    "  !rm -rf $DATADIR\n",
    "!mkdir $DATADIR\n",
    "%aicrowd ds dl -c htrec-2022 -o $DATADIR"
   ]
  },
  {
   "cell_type": "code",
   "execution_count": 21,
   "metadata": {},
   "outputs": [
    {
     "data": {
      "text/html": [
       "<div>\n",
       "<style scoped>\n",
       "    .dataframe tbody tr th:only-of-type {\n",
       "        vertical-align: middle;\n",
       "    }\n",
       "\n",
       "    .dataframe tbody tr th {\n",
       "        vertical-align: top;\n",
       "    }\n",
       "\n",
       "    .dataframe thead th {\n",
       "        text-align: right;\n",
       "    }\n",
       "</style>\n",
       "<table border=\"1\" class=\"dataframe\">\n",
       "  <thead>\n",
       "    <tr style=\"text-align: right;\">\n",
       "      <th></th>\n",
       "      <th>HUMAN_TRANSCRIPTION</th>\n",
       "      <th>SYSTEM_TRANSCRIPTION</th>\n",
       "      <th>CENTURY</th>\n",
       "      <th>IMAGE_PATH</th>\n",
       "      <th>TEXT_LINE_NUM</th>\n",
       "    </tr>\n",
       "  </thead>\n",
       "  <tbody>\n",
       "    <tr>\n",
       "      <th>0</th>\n",
       "      <td>ἐγγινομένα πάθη μὴ σβεννύντες ἀλλὰ τῆ εκλύσει</td>\n",
       "      <td>ἐγγενομεναπαδημησμεννωτες ἀλλατῆε κλησει</td>\n",
       "      <td>11</td>\n",
       "      <td>1 Bodleian-Library-MS-Barocci-102_00157_fol-75...</td>\n",
       "      <td>1</td>\n",
       "    </tr>\n",
       "    <tr>\n",
       "      <th>1</th>\n",
       "      <td>τοῦ βίου τοῦ καθ ΄ εαυτοὺς πολλὰ γίνεσθαι συγχ...</td>\n",
       "      <td>του β ου του καλεαυτοὺς πολλαγινεσθαι συγχωρ όν</td>\n",
       "      <td>11</td>\n",
       "      <td>1 Bodleian-Library-MS-Barocci-102_00157_fol-75...</td>\n",
       "      <td>2</td>\n",
       "    </tr>\n",
       "    <tr>\n",
       "      <th>2</th>\n",
       "      <td>τες ἐμπυρίζουσι τὸν ἀμπελῶνα ἀλλὰ καὶ ὁ διὰ</td>\n",
       "      <td>τες εμπυριζου σιμαμπελῶνα ἀλλακαι ὅδξα</td>\n",
       "      <td>11</td>\n",
       "      <td>1 Bodleian-Library-MS-Barocci-102_00157_fol-75...</td>\n",
       "      <td>3</td>\n",
       "    </tr>\n",
       "    <tr>\n",
       "      <th>3</th>\n",
       "      <td>τῆς ἡδεῖας πλεονεξίας πολλοὺς εἰς τὴν τῶν ἀλλ</td>\n",
       "      <td>της ἐδίας πλσον ἐξιας πολλους ἐις τὴν τῶν ἀλ</td>\n",
       "      <td>11</td>\n",
       "      <td>1 Bodleian-Library-MS-Barocci-102_00157_fol-75...</td>\n",
       "      <td>4</td>\n",
       "    </tr>\n",
       "    <tr>\n",
       "      <th>4</th>\n",
       "      <td>οτρίων ἐπιθυμίαν προκαλούμενος ἐμπυρί</td>\n",
       "      <td>λοτρλων ἐπιθυμιαν προκαλουμένος ἐμπυρι</td>\n",
       "      <td>11</td>\n",
       "      <td>1 Bodleian-Library-MS-Barocci-102_00157_fol-75...</td>\n",
       "      <td>5</td>\n",
       "    </tr>\n",
       "  </tbody>\n",
       "</table>\n",
       "</div>"
      ],
      "text/plain": [
       "                                 HUMAN_TRANSCRIPTION  \\\n",
       "0      ἐγγινομένα πάθη μὴ σβεννύντες ἀλλὰ τῆ εκλύσει   \n",
       "1  τοῦ βίου τοῦ καθ ΄ εαυτοὺς πολλὰ γίνεσθαι συγχ...   \n",
       "2        τες ἐμπυρίζουσι τὸν ἀμπελῶνα ἀλλὰ καὶ ὁ διὰ   \n",
       "3      τῆς ἡδεῖας πλεονεξίας πολλοὺς εἰς τὴν τῶν ἀλλ   \n",
       "4              οτρίων ἐπιθυμίαν προκαλούμενος ἐμπυρί   \n",
       "\n",
       "                              SYSTEM_TRANSCRIPTION  CENTURY  \\\n",
       "0         ἐγγενομεναπαδημησμεννωτες ἀλλατῆε κλησει       11   \n",
       "1  του β ου του καλεαυτοὺς πολλαγινεσθαι συγχωρ όν       11   \n",
       "2           τες εμπυριζου σιμαμπελῶνα ἀλλακαι ὅδξα       11   \n",
       "3     της ἐδίας πλσον ἐξιας πολλους ἐις τὴν τῶν ἀλ       11   \n",
       "4           λοτρλων ἐπιθυμιαν προκαλουμένος ἐμπυρι       11   \n",
       "\n",
       "                                          IMAGE_PATH  TEXT_LINE_NUM  \n",
       "0  1 Bodleian-Library-MS-Barocci-102_00157_fol-75...              1  \n",
       "1  1 Bodleian-Library-MS-Barocci-102_00157_fol-75...              2  \n",
       "2  1 Bodleian-Library-MS-Barocci-102_00157_fol-75...              3  \n",
       "3  1 Bodleian-Library-MS-Barocci-102_00157_fol-75...              4  \n",
       "4  1 Bodleian-Library-MS-Barocci-102_00157_fol-75...              5  "
      ]
     },
     "execution_count": 21,
     "metadata": {},
     "output_type": "execute_result"
    }
   ],
   "source": [
    "import pywer\n",
    "train_df = pd.read_csv( f\"{DATADIR}/train.csv\")\n",
    "test_df = pd.read_csv(f\"{DATADIR}/test.csv\")\n",
    "\n",
    "word_regex = re.compile(\"\\W+\")\n",
    "word_regex2 = re.compile(\"(\\W+)\")\n",
    "\n",
    "train_df.head()"
   ]
  },
  {
   "cell_type": "code",
   "execution_count": 22,
   "metadata": {},
   "outputs": [],
   "source": [
    "# !pip install nltk"
   ]
  },
  {
   "cell_type": "code",
   "execution_count": 23,
   "metadata": {},
   "outputs": [],
   "source": [
    "for lib_dir in [\"..\", \"../src\"]:\n",
    "    if not lib_dir in sys.path:\n",
    "        sys.path.append(lib_dir)\n",
    "from lm_utils import *"
   ]
  },
  {
   "cell_type": "code",
   "execution_count": 24,
   "metadata": {},
   "outputs": [],
   "source": [
    "language_model = make_lm(train_df.HUMAN_TRANSCRIPTION.sum())"
   ]
  },
  {
   "cell_type": "code",
   "execution_count": 25,
   "metadata": {},
   "outputs": [],
   "source": [
    "from tqdm.auto import tqdm\n",
    "from datastruct import *\n",
    "from common import *\n",
    "from space_fixer import SpaceFixer\n",
    "\n",
    "# for ht_line, mt_line in tqdm(train_df[[\"HUMAN_TRANSCRIPTION\", \"SYSTEM_TRANSCRIPTION\"]].values[7:]):\n",
    "#     ht_words = word_regex.split(ht_line)\n",
    "#     mt_words = word_regex.split(mt_line)\n",
    "#     #words_ = [remove_cap(word) for word in words]\n",
    "#     #vocab.add_sentence(words)\n",
    "#     dmatrix = build_path_matrix(mt_words, vocabs)\n",
    "#     finished_paths = extract_paths(dmatrix)\n",
    "#     for k in resplit_paths(finished_paths, mt_words):\n",
    "#         variant = \" \".join(k)\n",
    "#         print(variant)\n",
    "#     break\n"
   ]
  },
  {
   "cell_type": "code",
   "execution_count": 26,
   "metadata": {},
   "outputs": [],
   "source": [
    "def extract_spaces_dict(x):\n",
    "    result = dict()\n",
    "    last_index = 0\n",
    "    for w in word_regex2.split(x):\n",
    "        if not word_regex.match(w):\n",
    "            last_index += 1\n",
    "        else:\n",
    "            result[last_index] = w\n",
    "    if not last_index in result:\n",
    "        result[last_index] = \"\"\n",
    "    return result\n",
    "    "
   ]
  },
  {
   "cell_type": "code",
   "execution_count": 51,
   "metadata": {},
   "outputs": [
    {
     "data": {
      "application/vnd.jupyter.widget-view+json": {
       "model_id": "539f0190cf5b4ed69eb11d74e7ce052a",
       "version_major": 2,
       "version_minor": 0
      },
      "text/plain": [
       "  0%|          | 0/1875 [00:00<?, ?it/s]"
      ]
     },
     "metadata": {},
     "output_type": "display_data"
    }
   ],
   "source": [
    "\n",
    "fullword_regex = re.compile(\"\\w+\")\n",
    "train_df[\"SYSTEM_TRANSCRIPTION_raw\"] = train_df.SYSTEM_TRANSCRIPTION\n",
    "train_df[\"SYSTEM_TRANSCRIPTION\"] = train_df.SYSTEM_TRANSCRIPTION.apply(lambda x: lmr(x, lm=language_model))\n",
    "\n",
    "ht_sequences_train = train_df.HUMAN_TRANSCRIPTION.apply(\n",
    "    lambda x: word_regex.split(x)\n",
    ").values\n",
    "mt_sequences_train = train_df.SYSTEM_TRANSCRIPTION.apply(\n",
    "    lambda x: fullword_regex.findall(x)\n",
    ").values\n",
    "mt_spaces_train = train_df.SYSTEM_TRANSCRIPTION.apply(extract_spaces_dict).values\n",
    "\n",
    "mt_texts_train = train_df.SYSTEM_TRANSCRIPTION.values\n",
    "fixer = SpaceFixer(MAX_WORDS)\n",
    "fixer.fill(ht_sequences_train)"
   ]
  },
  {
   "cell_type": "code",
   "execution_count": 62,
   "metadata": {},
   "outputs": [
    {
     "data": {
      "application/vnd.jupyter.widget-view+json": {
       "model_id": "233cdda88f1041a3a98332c29b8c0e40",
       "version_major": 2,
       "version_minor": 0
      },
      "text/plain": [
       "  0%|          | 0/1875 [00:00<?, ?it/s]"
      ]
     },
     "metadata": {},
     "output_type": "display_data"
    }
   ],
   "source": [
    "corrected_texts = []\n",
    "# mt_sequences_train = mt_sequences_train[-1:]\n",
    "# mt_spaces_train = mt_spaces_train[-1:]\n",
    "# mt_texts_train = mt_texts_train[-1:]\n",
    "# ht_sequences_train = ht_sequences_train[-1:]\n",
    "K=0\n",
    "train_iter = zip(\n",
    "    mt_sequences_train[K:],\n",
    "    mt_spaces_train[K:],\n",
    "    mt_texts_train[K:],\n",
    "    ht_sequences_train[K:]\n",
    ")\n",
    "for i, (mt_words, line_spaces, mt_orig, ht_orig) in enumerate(tqdm(train_iter, total=len(mt_sequences_train[K:]))):\n",
    "    # print(line_spaces)\n",
    "    # print(mt_words)\n",
    "    # mt_orig = \" \".join(mt_words)\n",
    "    best = mt_orig\n",
    "    # temporary disable the following lines\n",
    "    replacements = [\n",
    "        \"\".join([w + s for w, s in zip(mt_split, spaces_after)]) \n",
    "        for mt_split, refs, spaces_after in fixer.resplit(mt_words, line_spaces, cutoff=1)\n",
    "    ]\n",
    "    best = lm_score(mt_orig, replacements, lm=language_model)\n",
    "    corrected_texts.append(best)\n",
    "    # break"
   ]
  },
  {
   "cell_type": "code",
   "execution_count": 70,
   "metadata": {},
   "outputs": [
    {
     "name": "stdout",
     "output_type": "stream",
     "text": [
      "δομενους της καταρας ελευθερωσηψβοα ['δομενους', 'της', 'καταρας', 'ελευθερωση', 'και', 'βοα']\n",
      "['δομενους', 'της', 'καταρας', 'ελευθερωσηψβοα']\n",
      "['δομενους', 'της', 'καταρας', 'ελευθερωσηψβοα'] [('δομενους',), ('της', 'τῆς'), ('καταρας',), ('ελευθερωσηψβοα',)] [' ', ' ', ' ', '']\n"
     ]
    },
    {
     "data": {
      "text/plain": [
       "['ἐγγενομεναπαδημησμεννωτες ἀλλα τῆ εκλησει',\n",
       " 'του β ου του καλ εαυτοὺς πολλα γινεσθαι συγχωρ όν']"
      ]
     },
     "execution_count": 70,
     "metadata": {},
     "output_type": "execute_result"
    }
   ],
   "source": [
    "unicodedata.name(\"σ\"), unicodedata.name(\"ς\")\n",
    "# fixer.dmatrix\n",
    "# corrected_texts, mt_words, line_spaces, mt_orig, ht_orig\n",
    "#for mt_split, refs, spaces_after in fixer.resplit(mt_words, line_spaces, cutoff=1):\n",
    "#    print(mt_split, spaces_after)\n",
    "# corrected_texts[0].split()\n",
    "print(mt_orig, ht_orig)\n",
    "print(mt_words)\n",
    "for mt_split, refs, spaces_after in fixer.resplit(mt_words, line_spaces, cutoff=3):\n",
    "    print(mt_words, refs, spaces_after)\n",
    "# wr = re.compile(\"\\w+\")\n",
    "# re.compile(\"\\W+\")\n",
    "# wr.findall(train_df.SYSTEM_TRANSCRIPTION.values[305])\n",
    "corrected_texts[:2]"
   ]
  },
  {
   "cell_type": "code",
   "execution_count": 71,
   "metadata": {},
   "outputs": [],
   "source": [
    "# for mt_split, refs, spaces_after in fixer.resplit(mt_words, line_spaces):\n",
    "#     print(mt_split, spaces_after, line_spaces)\n",
    "\n",
    "# ht_orig, mt_orig\n",
    "def postprocess_sigmas(sentence):\n",
    "    def correct_word(word):\n",
    "        if word_regex.match(word):\n",
    "            return word\n",
    "        #\"ς\"\n",
    "        cw = []\n",
    "        if len(word) < 1:\n",
    "            return word\n",
    "        for c in word[:-1]:\n",
    "            name = unicodedata.name(c)\n",
    "            new_char = c\n",
    "            if name.find(\"FINAL SIGMA\") >= 0:\n",
    "                name = name.replace(\"FINAL \", \"\")\n",
    "                try:\n",
    "                    new_char = unicodedata.lookup(name)\n",
    "                except:\n",
    "                    new_char = c\n",
    "            cw.append(new_char)\n",
    "        c = word[-1]\n",
    "        name = unicodedata.name(c)\n",
    "        if name.find(\"SIGMA\") >= 0 and name.find(\"FINAL SIGMA\") < 0:\n",
    "            name = name.replace(\"SIGMA\", \"FINAL SIGMA\")\n",
    "            try:\n",
    "                new_char = unicodedata.lookup(name)\n",
    "            except:\n",
    "                new_char = c\n",
    "        cw.append(c)\n",
    "        return \"\".join(cw)\n",
    "\n",
    "    words = [correct_word(x) for x in word_regex2.split(sentence)]\n",
    "    return \"\".join(words)\n",
    "    \n",
    "\n",
    "# [postprocess_sigmas(t) for t in corrected_texts]"
   ]
  },
  {
   "cell_type": "code",
   "execution_count": 72,
   "metadata": {},
   "outputs": [
    {
     "name": "stdout",
     "output_type": "stream",
     "text": [
      "mt: ['δομενους', 'της', 'καταρας', 'ελευθερωσηψβοα']\n",
      "['δομενους', 'της', 'καταρας', 'ελευθερωσηψβοα'] {1: ' ', 2: ' ', 3: ' ', 4: ''}\n",
      "('δομενους', 'της', 'καταρας', 'ελευθερωσηψβοα') [('δομενους',), ('της', 'τῆς'), ('καταρας',), ('ελευθερωσηψβοα',)] [' ', ' ', ' ', '']\n",
      "'δομενους της καταρας ελευθερωσηψβοα'\n"
     ]
    }
   ],
   "source": [
    "# print(ht_sequences_train[-1])\n",
    "print(\"mt:\", mt_words)\n",
    "for k, v, spaces_after in fixer.resplit(mt_words, line_spaces):\n",
    "    print(mt_words, line_spaces)\n",
    "    print(k, v, spaces_after)\n",
    "    print(repr(\"\".join([w+s for w, s in zip(k, spaces_after)])))"
   ]
  },
  {
   "cell_type": "code",
   "execution_count": 73,
   "metadata": {},
   "outputs": [
    {
     "data": {
      "text/plain": [
       "1069"
      ]
     },
     "execution_count": 73,
     "metadata": {},
     "output_type": "execute_result"
    }
   ],
   "source": [
    "# fixer.dmatrix\n",
    "np.sum([\n",
    "    mt!= st \n",
    "    for mt, st in zip(corrected_texts, train_df.SYSTEM_TRANSCRIPTION.values)\n",
    "])"
   ]
  },
  {
   "cell_type": "code",
   "execution_count": 74,
   "metadata": {},
   "outputs": [],
   "source": [
    "from metrics import compute_metrics"
   ]
  },
  {
   "cell_type": "code",
   "execution_count": 75,
   "metadata": {},
   "outputs": [
    {
     "name": "stdout",
     "output_type": "stream",
     "text": [
      "Unmodified:\n",
      "Candidate CER: 32.34161879035121\n",
      "Candidate CERR: 1.9029783584867797\n",
      "Sigma:\n",
      "Candidate CER: 32.32737233172925\n",
      "Candidate CERR: 1.9172248171087445\n",
      "sigma+delta, no postprocess sigma:\n",
      "Candidate CER: 32.32353275846639\n",
      "Candidate CERR: 1.9210643903716018\n"
     ]
    }
   ],
   "source": [
    "ht_texts = train_df.HUMAN_TRANSCRIPTION.values\n",
    "mt_texts = train_df.SYSTEM_TRANSCRIPTION_raw.values\n",
    "ct = [lmr(t, lm=language_model) for t in corrected_texts]\n",
    "# ct2 = [postprocess_sigmas(t) for t in ct]\n",
    "ct3 = [\n",
    "    lmr(t, word=\" δ \", replacements=[\"δ \", \" δ\", \" \"], lm=language_model) for t in ct]\n",
    "ct_ = [\n",
    "    lmr(t, word=\" ς \", replacements=[\"ς \", \" \"], lm=language_model) for t in corrected_texts]\n",
    "\n",
    "print(\"Unmodified:\")\n",
    "cerr_values_ht, cerr_values = compute_metrics(ht_texts, mt_texts, corrected_texts)\n",
    "print(\"Sigma:\")\n",
    "cerr_values_ht, cerr_values = compute_metrics(ht_texts, mt_texts, ct)\n",
    "# print(\"Sigma orig:\")\n",
    "# cerr_values_ht2, cerr_values2 = compute_metrics(ht_texts, mt_texts, ct_)\n",
    "print(\"sigma+delta, no postprocess sigma:\")\n",
    "cerr_values_ht3, cerr_values3 = compute_metrics(ht_texts, mt_texts, ct3)\n"
   ]
  },
  {
   "cell_type": "code",
   "execution_count": 76,
   "metadata": {},
   "outputs": [
    {
     "name": "stdout",
     "output_type": "stream",
     "text": [
      "538 -10.344827586206904\n",
      "'α με έ ρ ρό τοτον ὸ γαρ ὑπεεινόν'\n",
      "'ἀμέρσας βίον. τὸ γὰρ ὑπέγγυον' 'αμεέρ ρότοτον ὸ γαρ ὑπεεινόν'\n",
      "437 -10.34482758620689\n",
      "'εγω δε τοι τὸν πλοικαμόν  ἀν αδή τ ς'\n",
      "'ἐγὼ δὲ τον πλόκαμον ἀναδέτοις' 'εγω δετοι τὸν πλοικαμόν ἀναδήτ ς'\n",
      "315 -8.823529411764703\n",
      "'μομος κόμῶταρτου τες η τό μετα ς·'\n",
      "'Νόμος νόμῳ γὰρ τοὺς θεοὺς ἡγούμεθα' 'μομος κόμῶταρ του τες η τόμετας·'\n",
      "425 -8.695652173913047\n",
      "'πυριῶν καταρ δ᾽ ἀν τα λ καπν'\n",
      "'πύργων, κατὰ δ᾽ αἰθάλου' 'πυριῶν καταρ δ᾽ ἀνταλ καπν'\n",
      "330 -8.333333333333336\n",
      "'μολθουμθν ὼρχλὶ παὐ τας κ μαστενό μη'\n",
      "'μοχθοῦμεν ὡς χρὴ πάντα καὶ ματεύομεν' 'μολθουμθν ὼρ χλὶ παὐτας κ μαστενόμη'\n"
     ]
    }
   ],
   "source": [
    "diff_cer = (cerr_values_ht3 - cerr_values3)\n",
    "idx = np.argsort(diff_cer)\n",
    "for i in idx[:5]:\n",
    "    print(i, diff_cer[i])\n",
    "    print(repr(ct3[i]))\n",
    "    print(repr(ht_texts[i]), repr(mt_texts[i]))"
   ]
  },
  {
   "cell_type": "code",
   "execution_count": 77,
   "metadata": {},
   "outputs": [],
   "source": [
    "test_df[\"SYSTEM_TRANSCRIPTION_raw\"] = test_df.SYSTEM_TRANSCRIPTION\n",
    "test_df[\"SYSTEM_TRANSCRIPTION\"] = test_df.SYSTEM_TRANSCRIPTION.apply(lambda x: lmr(x, lm=language_model))"
   ]
  },
  {
   "cell_type": "code",
   "execution_count": 78,
   "metadata": {},
   "outputs": [
    {
     "data": {
      "application/vnd.jupyter.widget-view+json": {
       "model_id": "060f26a9708943e19268eeb22e0aee91",
       "version_major": 2,
       "version_minor": 0
      },
      "text/plain": [
       "  0%|          | 0/338 [00:00<?, ?it/s]"
      ]
     },
     "metadata": {},
     "output_type": "display_data"
    }
   ],
   "source": [
    "mt_orig_test = test_df.SYSTEM_TRANSCRIPTION.values\n",
    "mt_sequences_test = test_df.SYSTEM_TRANSCRIPTION.apply(lambda x: word_regex.split(x.strip())).values\n",
    "mt_spaces_test = test_df.SYSTEM_TRANSCRIPTION.apply(extract_spaces_dict).values\n",
    "corrected_texts_test = []\n",
    "for i, (mt_words, mt_spaces, mt_orig) in enumerate(tqdm(zip(mt_sequences_test, mt_spaces_test, mt_orig_test), total=len(mt_sequences_test))):\n",
    "    # print(i)\n",
    "    # print(mt_words)\n",
    "    # mt_orig = \" \".join(mt_words)\n",
    "    # temporary disable the following lines\n",
    "    best = mt_orig\n",
    "    replacements = [\n",
    "        \"\".join([w+s for w, s in zip(mt_split, spaces_after)]) for mt_split, refs, spaces_after in fixer.resplit(mt_words, mt_spaces, cutoff=1)\n",
    "    ]\n",
    "    best = lm_score(mt_orig, replacements, lm=language_model)\n",
    "    corrected_texts_test.append(best)"
   ]
  },
  {
   "cell_type": "code",
   "execution_count": 79,
   "metadata": {},
   "outputs": [],
   "source": [
    "from space_fixer import extract_paths, resplit_paths\n",
    "# paths = extract_paths(fixer.dmatrix)\n",
    "\n",
    "# # resplit_dict, spaces_dict = resplit_paths(paths, mt_words, mt_spaces) \n",
    "# #for path in paths:\n",
    "# #    for a, b, c, segments in path:\n",
    "# #        print(segments)\n",
    "# #    print(\"---\")\n",
    "# print(mt_words)\n",
    "# paths[1]\n",
    "# mt_orig"
   ]
  },
  {
   "cell_type": "code",
   "execution_count": 80,
   "metadata": {},
   "outputs": [],
   "source": [
    "corrected_texts_test1 = [lmr(t, lm=language_model) for t in corrected_texts_test]\n",
    "# ct = [lmr(t, lm=language_model) for t in corrected_texts]\n",
    "# ct2 = [postprocess_sigmas(t) for t in ct]\n",
    "corrected_texts_test2 = [\n",
    "    lmr(t, word=\" δ \", replacements=[\"δ \", \" δ\", \" \"], lm=language_model)\n",
    "    for t in corrected_texts_test1\n",
    "]\n",
    "\n",
    "# corrected_texts_test2 = [postprocess_sigmas(t) for t in corrected_texts_test1]"
   ]
  },
  {
   "cell_type": "code",
   "execution_count": 81,
   "metadata": {},
   "outputs": [
    {
     "data": {
      "text/html": [
       "<div>\n",
       "<style scoped>\n",
       "    .dataframe tbody tr th:only-of-type {\n",
       "        vertical-align: middle;\n",
       "    }\n",
       "\n",
       "    .dataframe tbody tr th {\n",
       "        vertical-align: top;\n",
       "    }\n",
       "\n",
       "    .dataframe thead th {\n",
       "        text-align: right;\n",
       "    }\n",
       "</style>\n",
       "<table border=\"1\" class=\"dataframe\">\n",
       "  <thead>\n",
       "    <tr style=\"text-align: right;\">\n",
       "      <th></th>\n",
       "      <th>ImageID</th>\n",
       "      <th>Transcriptions</th>\n",
       "    </tr>\n",
       "  </thead>\n",
       "  <tbody>\n",
       "    <tr>\n",
       "      <th>110</th>\n",
       "      <td>105 Bodleian-Library-MS-Barocci-59_00085_fol-4...</td>\n",
       "      <td>τὲ πρμον ην τὴν αν θησιν τὴν σρ</td>\n",
       "    </tr>\n",
       "  </tbody>\n",
       "</table>\n",
       "</div>"
      ],
      "text/plain": [
       "                                               ImageID  \\\n",
       "110  105 Bodleian-Library-MS-Barocci-59_00085_fol-4...   \n",
       "\n",
       "                      Transcriptions  \n",
       "110  τὲ πρμον ην τὴν αν θησιν τὴν σρ  "
      ]
     },
     "execution_count": 81,
     "metadata": {},
     "output_type": "execute_result"
    }
   ],
   "source": [
    "submission = pd.DataFrame(zip(test_df.IMAGE_PATH, corrected_texts_test2), columns=[\"ImageID\", \"Transcriptions\"])\n",
    "submission.sample()"
   ]
  },
  {
   "cell_type": "code",
   "execution_count": 82,
   "metadata": {},
   "outputs": [],
   "source": [
    "submission.to_csv(\"submission.csv\", index=False)"
   ]
  },
  {
   "cell_type": "code",
   "execution_count": 83,
   "metadata": {},
   "outputs": [
    {
     "data": {
      "text/html": [
       "<pre style=\"white-space:pre;overflow-x:auto;line-height:normal;font-family:Menlo,'DejaVu Sans Mono',consolas,'Courier New',monospace\"><span style=\"color: #000080; text-decoration-color: #000080; font-weight: bold\">submission.csv</span> <span style=\"color: #729c1f; text-decoration-color: #729c1f\">━━━━━━━━━━━━━━━━━━━━━━━━━━━━━━━━━</span> <span style=\"color: #800080; text-decoration-color: #800080\">100.0%</span> • <span style=\"color: #008000; text-decoration-color: #008000\">45.3/43.7 KB</span> • <span style=\"color: #800000; text-decoration-color: #800000\">506.8 kB/s</span> • <span style=\"color: #008080; text-decoration-color: #008080\">0:00:00</span>\n",
       "</pre>\n"
      ],
      "text/plain": [
       "\u001b[1;34msubmission.csv\u001b[0m \u001b[38;2;114;156;31m━━━━━━━━━━━━━━━━━━━━━━━━━━━━━━━━━\u001b[0m \u001b[35m100.0%\u001b[0m • \u001b[32m45.3/43.7 KB\u001b[0m • \u001b[31m506.8 kB/s\u001b[0m • \u001b[36m0:00:00\u001b[0m\n"
      ]
     },
     "metadata": {},
     "output_type": "display_data"
    },
    {
     "data": {
      "text/html": [
       "<pre style=\"white-space:pre;overflow-x:auto;line-height:normal;font-family:Menlo,'DejaVu Sans Mono',consolas,'Courier New',monospace\"></pre>\n"
      ],
      "text/plain": []
     },
     "metadata": {},
     "output_type": "display_data"
    },
    {
     "data": {
      "text/html": [
       "<pre style=\"white-space:pre;overflow-x:auto;line-height:normal;font-family:Menlo,'DejaVu Sans Mono',consolas,'Courier New',monospace\">\n",
       "</pre>\n"
      ],
      "text/plain": [
       "\n"
      ]
     },
     "metadata": {},
     "output_type": "display_data"
    },
    {
     "data": {
      "text/html": [
       "<pre style=\"white-space:pre;overflow-x:auto;line-height:normal;font-family:Menlo,'DejaVu Sans Mono',consolas,'Courier New',monospace\">                                    ╭─────────────────────────╮                                     \n",
       "                                    │ <span style=\"font-weight: bold\">Successfully submitted!</span> │                                     \n",
       "                                    ╰─────────────────────────╯                                     \n",
       "</pre>\n"
      ],
      "text/plain": [
       "                                    ╭─────────────────────────╮                                     \n",
       "                                    │ \u001b[1mSuccessfully submitted!\u001b[0m │                                     \n",
       "                                    ╰─────────────────────────╯                                     \n"
      ]
     },
     "metadata": {},
     "output_type": "display_data"
    },
    {
     "data": {
      "text/html": [
       "<pre style=\"white-space:pre;overflow-x:auto;line-height:normal;font-family:Menlo,'DejaVu Sans Mono',consolas,'Courier New',monospace\"><span style=\"font-style: italic\">                                          Important links                                           </span>\n",
       "┌──────────────────┬───────────────────────────────────────────────────────────────────────────────┐\n",
       "│  This submission │ https://www.aicrowd.com/challenges/htrec-2022/submissions/191686              │\n",
       "│                  │                                                                               │\n",
       "│  All submissions │ https://www.aicrowd.com/challenges/htrec-2022/submissions?my_submissions=true │\n",
       "│                  │                                                                               │\n",
       "│      Leaderboard │ https://www.aicrowd.com/challenges/htrec-2022/leaderboards                    │\n",
       "│                  │                                                                               │\n",
       "│ Discussion forum │ https://discourse.aicrowd.com/c/htrec-2022                                    │\n",
       "│                  │                                                                               │\n",
       "│   Challenge page │ https://www.aicrowd.com/challenges/htrec-2022                                 │\n",
       "└──────────────────┴───────────────────────────────────────────────────────────────────────────────┘\n",
       "</pre>\n"
      ],
      "text/plain": [
       "\u001b[3m                                          Important links                                           \u001b[0m\n",
       "┌──────────────────┬───────────────────────────────────────────────────────────────────────────────┐\n",
       "│  This submission │ https://www.aicrowd.com/challenges/htrec-2022/submissions/191686              │\n",
       "│                  │                                                                               │\n",
       "│  All submissions │ https://www.aicrowd.com/challenges/htrec-2022/submissions?my_submissions=true │\n",
       "│                  │                                                                               │\n",
       "│      Leaderboard │ https://www.aicrowd.com/challenges/htrec-2022/leaderboards                    │\n",
       "│                  │                                                                               │\n",
       "│ Discussion forum │ https://discourse.aicrowd.com/c/htrec-2022                                    │\n",
       "│                  │                                                                               │\n",
       "│   Challenge page │ https://www.aicrowd.com/challenges/htrec-2022                                 │\n",
       "└──────────────────┴───────────────────────────────────────────────────────────────────────────────┘\n"
      ]
     },
     "metadata": {},
     "output_type": "display_data"
    },
    {
     "name": "stdout",
     "output_type": "stream",
     "text": [
      "{'submission_id': 191686, 'created_at': '2022-06-30T21:39:03.683Z'}\n"
     ]
    }
   ],
   "source": [
    "%aicrowd submission create -c htrec-2022 -f submission.csv"
   ]
  },
  {
   "cell_type": "code",
   "execution_count": null,
   "metadata": {},
   "outputs": [],
   "source": [
    "#test_spaces = test_df.SYSTEM_TRANSCRIPTION.apply(lambda x: [w for w in word_regex2.split(x) if word_regex.match(w)]).values\n",
    "#train_spaces1 = train_df.SYSTEM_TRANSCRIPTION.apply(lambda x: [w for w in word_regex2.split(x) if word_regex.match(w)]).values\n",
    "#train_spaces2 = train_df.HUMAN_TRANSCRIPTION.apply(lambda x: [w for w in word_regex2.split(x) if word_regex.match(w)]).values"
   ]
  },
  {
   "cell_type": "code",
   "execution_count": null,
   "metadata": {},
   "outputs": [],
   "source": [
    "#from collections import Counter\n",
    "#Counter([x for xs in test_spaces for xss in xs for x in xss])"
   ]
  },
  {
   "cell_type": "code",
   "execution_count": null,
   "metadata": {},
   "outputs": [],
   "source": [
    "#Counter([x for xs in train_spaces1 for xss in xs for x in xss])"
   ]
  },
  {
   "cell_type": "code",
   "execution_count": null,
   "metadata": {},
   "outputs": [],
   "source": [
    "# Counter([x for xs in train_spaces2 for xss in xs for x in xss])"
   ]
  },
  {
   "cell_type": "code",
   "execution_count": null,
   "metadata": {},
   "outputs": [],
   "source": []
  },
  {
   "cell_type": "code",
   "execution_count": null,
   "metadata": {},
   "outputs": [],
   "source": []
  },
  {
   "cell_type": "code",
   "execution_count": null,
   "metadata": {},
   "outputs": [],
   "source": []
  }
 ],
 "metadata": {
  "kernelspec": {
   "display_name": "Python 3.7.13 ('data_env')",
   "language": "python",
   "name": "python3"
  },
  "language_info": {
   "codemirror_mode": {
    "name": "ipython",
    "version": 3
   },
   "file_extension": ".py",
   "mimetype": "text/x-python",
   "name": "python",
   "nbconvert_exporter": "python",
   "pygments_lexer": "ipython3",
   "version": "3.7.13"
  },
  "orig_nbformat": 4,
  "vscode": {
   "interpreter": {
    "hash": "d632e93423067b2b9b1b8d52846f85c868da433699adad534ad2cc6673775271"
   }
  }
 },
 "nbformat": 4,
 "nbformat_minor": 2
}
